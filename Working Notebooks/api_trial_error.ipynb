{
 "cells": [
  {
   "cell_type": "code",
   "execution_count": 1,
   "metadata": {},
   "outputs": [],
   "source": [
    "import json \n",
    "import requests\n",
    "import numpy as np\n",
    "import pandas as pd\n",
    "import time \n",
    "import random\n",
    "from bs4 import BeautifulSoup as BS"
   ]
  },
  {
   "cell_type": "code",
   "execution_count": 2,
   "metadata": {},
   "outputs": [],
   "source": [
    "#import the api id and api key\n",
    "from keys import app_id, app_key\n"
   ]
  },
  {
   "cell_type": "code",
   "execution_count": 3,
   "metadata": {},
   "outputs": [],
   "source": [
    "url='https://www23.statcan.gc.ca/imdb/p3VD.pl?Function=getVD&TVD=53971'\n",
    "\n",
    "page = requests.get(url)\n",
    "bs = BS(page.content, 'html.parser')\n",
    "states = pd.DataFrame([[i.text for i in x.findAll('td')] for x in bs.table.findAll('tr')][1:])[2].unique()"
   ]
  },
  {
   "cell_type": "code",
   "execution_count": 25,
   "metadata": {},
   "outputs": [
    {
     "name": "stdout",
     "output_type": "stream",
     "text": [
      "AK 7\n",
      "DE 9\n",
      "HI 10\n",
      "NH 10\n",
      "ND 7\n",
      "RI 10\n",
      "SD 8\n",
      "VT 8\n",
      "WY 7\n"
     ]
    }
   ],
   "source": [
    "data2, badlist2 = [] , []\n",
    "for state in states:\n",
    "    for page in range(1,11):\n",
    "        url = f'https://api.data.charitynavigator.org/v2/Organizations?app_id=e890d85f&app_key=15c0fd55e8a27aa023c8391cf56e3300&state={state}&pageSize=1000&pageNum={page}'\n",
    "        response = requests.get(url)\n",
    "        if response.status_code == 200:\n",
    "            polls = response.json()\n",
    "            for x in polls:\n",
    "                try:\n",
    "                    lst = []\n",
    "                    lst.append(x['mission'])\n",
    "                    lst.append(x['tagLine'])\n",
    "                    lst.append(x['charityName'])\n",
    "                    lst.append(x['category']['categoryName'])\n",
    "                    lst.append(x['category']['categoryID'])\n",
    "                    lst.append(x['cause']['causeName'])\n",
    "                    lst.append(x['cause']['causeID'])\n",
    "                    lst.append(x['mailingAddress']['city'])\n",
    "                    lst.append(x['mailingAddress']['stateOrProvince'])\n",
    "                    lst.append(x['mailingAddress']['postalCode'])\n",
    "                    lst.append(x['currentRating']['score'])\n",
    "                    lst.append(x['currentRating']['rating'])\n",
    "                    lst.append(x['advisories']['severity'])\n",
    "                    current_accountability_rating = x['currentRating']['accountabilityRating']\n",
    "                    lst.append(current_accountability_rating['score'])\n",
    "                    lst.append(current_accountability_rating['rating'])\n",
    "                    lst.append(x['irsClassification']['nteeType'])\n",
    "                    lst.append(x['irsClassification']['classification'])\n",
    "                    lst.append(x['irsClassification']['affiliation'])\n",
    "                    lst.append(x['irsClassification']['foundationStatus'])\n",
    "                    lst.append(x['irsClassification']['nteeClassification'])\n",
    "                    lst.append(x['irsClassification']['deductibility'])\n",
    "                    lst.append(x['irsClassification']['subsection'])\n",
    "                    lst.append(x['irsClassification']['assetAmount'])\n",
    "                    lst.append(x['irsClassification']['incomeAmount'])\n",
    "                    current_financial_rating = x['currentRating']['financialRating']\n",
    "                    lst.append(current_financial_rating['score'])\n",
    "                    lst.append(current_financial_rating['rating'])\n",
    "                    data2.append(lst)\n",
    "                except:\n",
    "                    badlist2.append(x)\n",
    "        else:\n",
    "            print(state, page)\n",
    "            break\n",
    "        time.sleep(random.choice([x/10 for x in range(7,13)]))\n",
    "    df4 = pd.DataFrame(data2)\n",
    "    df4.to_csv('data2.csv')\n",
    "\n",
    "\n"
   ]
  },
  {
   "cell_type": "code",
   "execution_count": 27,
   "metadata": {},
   "outputs": [
    {
     "data": {
      "text/plain": [
       "(2550, 26)"
      ]
     },
     "execution_count": 27,
     "metadata": {},
     "output_type": "execute_result"
    }
   ],
   "source": [
    "df4.shape"
   ]
  },
  {
   "cell_type": "code",
   "execution_count": 4,
   "metadata": {},
   "outputs": [
    {
     "name": "stdout",
     "output_type": "stream",
     "text": [
      "AL 11\n",
      "AK 7\n",
      "AZ 11\n",
      "AR 11\n",
      "CA 11\n",
      "CO 11\n",
      "CT 11\n",
      "DE 9\n",
      "DC 11\n",
      "FL 11\n",
      "GA 11\n",
      "HI 10\n",
      "ID 11\n",
      "IL 11\n",
      "IN 11\n",
      "IA 11\n",
      "KS 11\n",
      "KY 11\n",
      "LA 11\n",
      "ME 11\n",
      "MD 11\n",
      "MA 11\n",
      "MI 11\n",
      "MN 11\n",
      "MS 11\n",
      "MO 11\n",
      "MT 11\n",
      "NE 11\n",
      "NV 11\n",
      "NH 10\n",
      "NJ 11\n",
      "NM 11\n",
      "NY 11\n",
      "NC 11\n",
      "ND 7\n",
      "OH 11\n",
      "OK 11\n",
      "OR 11\n",
      "PA 11\n",
      "RI 10\n",
      "SC 11\n",
      "SD 8\n",
      "TN 11\n",
      "TX 11\n",
      "UT 11\n",
      "VT 8\n",
      "VA 11\n",
      "WA 11\n",
      "WV 11\n",
      "WI 11\n",
      "WY 7\n"
     ]
    }
   ],
   "source": [
    "rating, ratingbadlist = [] ,[]\n",
    "for state in states:\n",
    "    for page in range(1,100):\n",
    "        url = f'https://api.data.charitynavigator.org/v2/Organizations?app_id=e890d85f&app_key=15c0fd55e8a27aa023c8391cf56e3300&state={state}&pageSize=1000&pageNum={page}'\n",
    "        response = requests.get(url)\n",
    "        if response.status_code == 200:\n",
    "            polls = response.json()\n",
    "            for x in polls:\n",
    "                try:\n",
    "                    lst = []\n",
    "                    #lst.append(x['mission'])\n",
    "                    #lst.append(x['tagLine'])\n",
    "                    lst.append(x['charityName'])\n",
    "                    #lst.append(x['category']['categoryName'])\n",
    "                    #lst.append(x['category']['categoryID'])\n",
    "                    #lst.append(x['cause']['causeName'])\n",
    "#                     lst.append(x['cause']['causeID'])\n",
    "#                     lst.append(x['mailingAddress']['city'])\n",
    "#                     lst.append(x['mailingAddress']['stateOrProvince'])\n",
    "#                     lst.append(x['mailingAddress']['postalCode'])\n",
    "#                     lst.append(x['currentRating']['score'])\n",
    "#                     lst.append(x['currentRating']['rating'])\n",
    "#                     lst.append(x['advisories']['severity'])\n",
    "                    current_accountability_rating = x['currentRating']['accountabilityRating']\n",
    "                    lst.append(current_accountability_rating['score'])\n",
    "                    lst.append(current_accountability_rating['rating'])\n",
    "#                     lst.append(x['irsClassification']['nteeType'])\n",
    "#                     lst.append(x['irsClassification']['classification'])\n",
    "#                     lst.append(x['irsClassification']['affiliation'])\n",
    "#                     lst.append(x['irsClassification']['foundationStatus'])\n",
    "#                     lst.append(x['irsClassification']['nteeClassification'])\n",
    "#                     lst.append(x['irsClassification']['deductibility'])\n",
    "#                     lst.append(x['irsClassification']['subsection'])\n",
    "#                     lst.append(x['irsClassification']['assetAmount'])\n",
    "#                     lst.append(x['irsClassification']['incomeAmount'])\n",
    "                    #current_financial_rating = x['currentRating']['financialRating']\n",
    "                    #lst.append(current_financial_rating['score'])\n",
    "                    #lst.append(current_financial_rating['rating'])\n",
    "                    rating.append(lst)\n",
    "                except:\n",
    "                    ratingbadlist.append(x)\n",
    "        else:\n",
    "            print(state, page)\n",
    "            break\n",
    "        time.sleep(random.choice([x/10 for x in range(7,13)]))\n",
    "    df = pd.DataFrame(rating)\n",
    "    df.to_csv('rating.csv')"
   ]
  },
  {
   "cell_type": "code",
   "execution_count": 6,
   "metadata": {},
   "outputs": [
    {
     "data": {
      "text/plain": [
       "(2577, 5)"
      ]
     },
     "execution_count": 6,
     "metadata": {},
     "output_type": "execute_result"
    }
   ],
   "source": [
    "df.shape"
   ]
  },
  {
   "cell_type": "code",
   "execution_count": 7,
   "metadata": {},
   "outputs": [
    {
     "data": {
      "text/html": [
       "<div>\n",
       "<style scoped>\n",
       "    .dataframe tbody tr th:only-of-type {\n",
       "        vertical-align: middle;\n",
       "    }\n",
       "\n",
       "    .dataframe tbody tr th {\n",
       "        vertical-align: top;\n",
       "    }\n",
       "\n",
       "    .dataframe thead th {\n",
       "        text-align: right;\n",
       "    }\n",
       "</style>\n",
       "<table border=\"1\" class=\"dataframe\">\n",
       "  <thead>\n",
       "    <tr style=\"text-align: right;\">\n",
       "      <th></th>\n",
       "      <th>0</th>\n",
       "      <th>1</th>\n",
       "      <th>2</th>\n",
       "      <th>3</th>\n",
       "      <th>4</th>\n",
       "    </tr>\n",
       "  </thead>\n",
       "  <tbody>\n",
       "    <tr>\n",
       "      <th>0</th>\n",
       "      <td>Impact America</td>\n",
       "      <td>82</td>\n",
       "      <td>3</td>\n",
       "      <td>91.70</td>\n",
       "      <td>4</td>\n",
       "    </tr>\n",
       "    <tr>\n",
       "      <th>1</th>\n",
       "      <td>Four Corners Ministries</td>\n",
       "      <td>85</td>\n",
       "      <td>3</td>\n",
       "      <td>96.10</td>\n",
       "      <td>4</td>\n",
       "    </tr>\n",
       "    <tr>\n",
       "      <th>2</th>\n",
       "      <td>Mobile Symphony Orchestra</td>\n",
       "      <td>89</td>\n",
       "      <td>3</td>\n",
       "      <td>66.45</td>\n",
       "      <td>1</td>\n",
       "    </tr>\n",
       "    <tr>\n",
       "      <th>3</th>\n",
       "      <td>Big Oak Ranch</td>\n",
       "      <td>93</td>\n",
       "      <td>4</td>\n",
       "      <td>99.11</td>\n",
       "      <td>4</td>\n",
       "    </tr>\n",
       "    <tr>\n",
       "      <th>4</th>\n",
       "      <td>Community Foundation of Greater Huntsville</td>\n",
       "      <td>96</td>\n",
       "      <td>4</td>\n",
       "      <td>95.00</td>\n",
       "      <td>4</td>\n",
       "    </tr>\n",
       "  </tbody>\n",
       "</table>\n",
       "</div>"
      ],
      "text/plain": [
       "                                            0   1  2      3  4\n",
       "0                              Impact America  82  3  91.70  4\n",
       "1                     Four Corners Ministries  85  3  96.10  4\n",
       "2                   Mobile Symphony Orchestra  89  3  66.45  1\n",
       "3                               Big Oak Ranch  93  4  99.11  4\n",
       "4  Community Foundation of Greater Huntsville  96  4  95.00  4"
      ]
     },
     "execution_count": 7,
     "metadata": {},
     "output_type": "execute_result"
    }
   ],
   "source": [
    "df.head()"
   ]
  },
  {
   "cell_type": "code",
   "execution_count": 14,
   "metadata": {
    "collapsed": true,
    "jupyter": {
     "outputs_hidden": true
    }
   },
   "outputs": [
    {
     "name": "stdout",
     "output_type": "stream",
     "text": [
      "AL 11\n",
      "AK 7\n",
      "AZ 11\n",
      "AR 11\n",
      "CA 11\n",
      "CO 11\n",
      "CT 11\n",
      "DE 9\n",
      "DC 11\n",
      "FL 11\n",
      "GA 11\n",
      "HI 10\n",
      "ID 11\n",
      "IL 11\n",
      "IN 11\n",
      "IA 11\n",
      "KS 11\n",
      "KY 11\n",
      "LA 11\n",
      "ME 11\n",
      "MD 11\n",
      "MA 11\n",
      "MI 11\n",
      "MN 11\n",
      "MS 11\n",
      "MO 11\n",
      "MT 11\n",
      "NE 11\n",
      "NV 11\n",
      "NH 10\n",
      "NJ 11\n",
      "NM 11\n",
      "NY 11\n",
      "NC 11\n",
      "ND 7\n",
      "OH 11\n",
      "OK 11\n",
      "OR 11\n",
      "PA 11\n",
      "RI 10\n",
      "SC 11\n",
      "SD 8\n",
      "TN 11\n",
      "TX 11\n",
      "UT 11\n",
      "VT 8\n",
      "VA 11\n",
      "WA 11\n",
      "WV 11\n",
      "WI 11\n",
      "WY 7\n"
     ]
    }
   ],
   "source": [
    "accrating, accratingbadlist = [] ,[]\n",
    "for state in states:\n",
    "    for page in range(1,100):\n",
    "        url = f'https://api.data.charitynavigator.org/v2/Organizations?app_id=e890d85f&app_key=15c0fd55e8a27aa023c8391cf56e3300&state={state}&pageSize=1000&pageNum={page}'\n",
    "        response = requests.get(url)\n",
    "        if response.status_code == 200:\n",
    "            polls = response.json()\n",
    "            for x in polls:\n",
    "                try:\n",
    "                    lst = []\n",
    "                    #lst.append(x['mission'])\n",
    "                    #lst.append(x['tagLine'])\n",
    "                    lst.append(x['charityName'])\n",
    "                    #lst.append(x['category']['categoryName'])\n",
    "                    #lst.append(x['category']['categoryID'])\n",
    "                    #lst.append(x['cause']['causeName'])\n",
    "#                     lst.append(x['cause']['causeID'])\n",
    "#                     lst.append(x['mailingAddress']['city'])\n",
    "#                     lst.append(x['mailingAddress']['stateOrProvince'])\n",
    "#                     lst.append(x['mailingAddress']['postalCode'])\n",
    "#                     lst.append(x['currentRating']['score'])\n",
    "#                     lst.append(x['currentRating']['rating'])\n",
    "#                     lst.append(x['advisories']['severity'])\n",
    "                    current_accountability_rating = x['currentRating']['accountabilityRating']\n",
    "                    lst.append(current_accountability_rating['score'])\n",
    "                    lst.append(current_accountability_rating['rating'])\n",
    "#                     lst.append(x['irsClassification']['nteeType'])\n",
    "#                     lst.append(x['irsClassification']['classification'])\n",
    "#                     lst.append(x['irsClassification']['affiliation'])\n",
    "#                     lst.append(x['irsClassification']['foundationStatus'])\n",
    "#                     lst.append(x['irsClassification']['nteeClassification'])\n",
    "#                     lst.append(x['irsClassification']['deductibility'])\n",
    "#                     lst.append(x['irsClassification']['subsection'])\n",
    "#                     lst.append(x['irsClassification']['assetAmount'])\n",
    "#                     lst.append(x['irsClassification']['incomeAmount'])\n",
    "                    #current_financial_rating = x['currentRating']['financialRating']\n",
    "                    #lst.append(current_financial_rating['score'])\n",
    "                    #lst.append(current_financial_rating['rating'])\n",
    "                    accrating.append(lst)\n",
    "                except:\n",
    "                    accratingbadlist.append(x)\n",
    "        else:\n",
    "            print(state, page)\n",
    "            break\n",
    "        time.sleep(random.choice([x/10 for x in range(7,13)]))\n",
    "    df2 = pd.DataFrame(accrating)\n",
    "    df2.to_csv('accrating.csv')"
   ]
  },
  {
   "cell_type": "code",
   "execution_count": 18,
   "metadata": {},
   "outputs": [
    {
     "data": {
      "text/plain": [
       "(2577, 3)"
      ]
     },
     "execution_count": 18,
     "metadata": {},
     "output_type": "execute_result"
    }
   ],
   "source": [
    "df2.shape"
   ]
  },
  {
   "cell_type": "code",
   "execution_count": 30,
   "metadata": {},
   "outputs": [
    {
     "data": {
      "text/plain": [
       "Boone and Crockett Club                           2\n",
       "American Institute for Economic Research          1\n",
       "Catholic Charities of the Archdiocese of Omaha    1\n",
       "Family Independence Initiative                    1\n",
       "Alternatives Incorporated of Madison County       1\n",
       "                                                 ..\n",
       "The Outreach Program                              1\n",
       "Jewish Foundation for the Righteous               1\n",
       "United Way of Southeast Mississippi               1\n",
       "Northeastern Pennsylvania Philharmonic Society    1\n",
       "The Sunlight Foundation                           1\n",
       "Name: 0, Length: 2576, dtype: int64"
      ]
     },
     "execution_count": 30,
     "metadata": {},
     "output_type": "execute_result"
    }
   ],
   "source": [
    "df2[0].value_counts()"
   ]
  },
  {
   "cell_type": "code",
   "execution_count": 31,
   "metadata": {},
   "outputs": [
    {
     "data": {
      "text/plain": [
       "Boone and Crockett Club                           2\n",
       "American Institute for Economic Research          1\n",
       "Catholic Charities of the Archdiocese of Omaha    1\n",
       "Family Independence Initiative                    1\n",
       "Alternatives Incorporated of Madison County       1\n",
       "                                                 ..\n",
       "The Outreach Program                              1\n",
       "Jewish Foundation for the Righteous               1\n",
       "United Way of Southeast Mississippi               1\n",
       "Northeastern Pennsylvania Philharmonic Society    1\n",
       "The Sunlight Foundation                           1\n",
       "Name: 0, Length: 2576, dtype: int64"
      ]
     },
     "execution_count": 31,
     "metadata": {},
     "output_type": "execute_result"
    }
   ],
   "source": [
    "df[0].value_counts()"
   ]
  },
  {
   "cell_type": "code",
   "execution_count": 19,
   "metadata": {},
   "outputs": [
    {
     "data": {
      "text/html": [
       "<div>\n",
       "<style scoped>\n",
       "    .dataframe tbody tr th:only-of-type {\n",
       "        vertical-align: middle;\n",
       "    }\n",
       "\n",
       "    .dataframe tbody tr th {\n",
       "        vertical-align: top;\n",
       "    }\n",
       "\n",
       "    .dataframe thead th {\n",
       "        text-align: right;\n",
       "    }\n",
       "</style>\n",
       "<table border=\"1\" class=\"dataframe\">\n",
       "  <thead>\n",
       "    <tr style=\"text-align: right;\">\n",
       "      <th></th>\n",
       "      <th>0</th>\n",
       "      <th>1</th>\n",
       "      <th>2</th>\n",
       "    </tr>\n",
       "  </thead>\n",
       "  <tbody>\n",
       "    <tr>\n",
       "      <th>0</th>\n",
       "      <td>Impact America</td>\n",
       "      <td>82</td>\n",
       "      <td>3</td>\n",
       "    </tr>\n",
       "    <tr>\n",
       "      <th>1</th>\n",
       "      <td>Four Corners Ministries</td>\n",
       "      <td>85</td>\n",
       "      <td>3</td>\n",
       "    </tr>\n",
       "    <tr>\n",
       "      <th>2</th>\n",
       "      <td>Mobile Symphony Orchestra</td>\n",
       "      <td>89</td>\n",
       "      <td>3</td>\n",
       "    </tr>\n",
       "    <tr>\n",
       "      <th>3</th>\n",
       "      <td>Big Oak Ranch</td>\n",
       "      <td>93</td>\n",
       "      <td>4</td>\n",
       "    </tr>\n",
       "    <tr>\n",
       "      <th>4</th>\n",
       "      <td>Community Foundation of Greater Huntsville</td>\n",
       "      <td>96</td>\n",
       "      <td>4</td>\n",
       "    </tr>\n",
       "  </tbody>\n",
       "</table>\n",
       "</div>"
      ],
      "text/plain": [
       "                                            0   1  2\n",
       "0                              Impact America  82  3\n",
       "1                     Four Corners Ministries  85  3\n",
       "2                   Mobile Symphony Orchestra  89  3\n",
       "3                               Big Oak Ranch  93  4\n",
       "4  Community Foundation of Greater Huntsville  96  4"
      ]
     },
     "execution_count": 19,
     "metadata": {},
     "output_type": "execute_result"
    }
   ],
   "source": [
    "df.head()"
   ]
  },
  {
   "cell_type": "code",
   "execution_count": 12,
   "metadata": {
    "collapsed": true,
    "jupyter": {
     "outputs_hidden": true
    }
   },
   "outputs": [
    {
     "name": "stdout",
     "output_type": "stream",
     "text": [
      "AL 11\n",
      "AK 7\n",
      "AZ 11\n",
      "AR 11\n",
      "CA 11\n",
      "CO 11\n",
      "CT 11\n",
      "DE 9\n",
      "DC 11\n",
      "FL 11\n",
      "GA 11\n",
      "HI 10\n",
      "ID 11\n",
      "IL 11\n",
      "IN 11\n",
      "IA 11\n",
      "KS 11\n",
      "KY 11\n",
      "LA 11\n",
      "ME 11\n",
      "MD 11\n",
      "MA 11\n",
      "MI 11\n",
      "MN 11\n",
      "MS 11\n",
      "MO 11\n",
      "MT 11\n",
      "NE 11\n",
      "NV 11\n",
      "NH 10\n",
      "NJ 11\n",
      "NM 11\n",
      "NY 11\n",
      "NC 11\n",
      "ND 7\n",
      "OH 11\n",
      "OK 11\n",
      "OR 11\n",
      "PA 11\n",
      "RI 10\n",
      "SC 11\n",
      "SD 8\n",
      "TN 11\n",
      "TX 11\n",
      "UT 11\n",
      "VT 8\n",
      "VA 11\n",
      "WA 11\n",
      "WV 11\n",
      "WI 11\n",
      "WY 7\n"
     ]
    }
   ],
   "source": [
    "finrating, finratingbadlist = [] ,[]\n",
    "for state in states:\n",
    "    for page in range(1,100):\n",
    "        url = f'https://api.data.charitynavigator.org/v2/Organizations?app_id=e890d85f&app_key=15c0fd55e8a27aa023c8391cf56e3300&state={state}&pageSize=1000&pageNum={page}'\n",
    "        response = requests.get(url)\n",
    "        if response.status_code == 200:\n",
    "            polls = response.json()\n",
    "            for x in polls:\n",
    "                try:\n",
    "                    lst = []\n",
    "                    #lst.append(x['mission'])\n",
    "                    #lst.append(x['tagLine'])\n",
    "                    lst.append(x['charityName'])\n",
    "                    #lst.append(x['category']['categoryName'])\n",
    "                    #lst.append(x['category']['categoryID'])\n",
    "                    #lst.append(x['cause']['causeName'])\n",
    "#                     lst.append(x['cause']['causeID'])\n",
    "#                     lst.append(x['mailingAddress']['city'])\n",
    "#                     lst.append(x['mailingAddress']['stateOrProvince'])\n",
    "#                     lst.append(x['mailingAddress']['postalCode'])\n",
    "#                     lst.append(x['currentRating']['score'])\n",
    "#                     lst.append(x['currentRating']['rating'])\n",
    "#                     lst.append(x['advisories']['severity'])\n",
    "#                     current_accountability_rating = x['currentRating']['accountabilityRating']\n",
    "#                     lst.append(current_accountability_rating['score'])\n",
    "#                     lst.append(current_accountability_rating['rating'])\n",
    "#                     lst.append(x['irsClassification']['nteeType'])\n",
    "#                     lst.append(x['irsClassification']['classification'])\n",
    "#                     lst.append(x['irsClassification']['affiliation'])\n",
    "#                     lst.append(x['irsClassification']['foundationStatus'])\n",
    "#                     lst.append(x['irsClassification']['nteeClassification'])\n",
    "#                     lst.append(x['irsClassification']['deductibility'])\n",
    "#                     lst.append(x['irsClassification']['subsection'])\n",
    "#                     lst.append(x['irsClassification']['assetAmount'])\n",
    "#                     lst.append(x['irsClassification']['incomeAmount'])\n",
    "                    current_financial_rating = x['currentRating']['financialRating']\n",
    "                    lst.append(current_financial_rating['score'])\n",
    "                    lst.append(current_financial_rating['rating'])\n",
    "                    finrating.append(lst)\n",
    "                except:\n",
    "                    finratingbadlist.append(x)\n",
    "        else:\n",
    "            print(state, page)\n",
    "            break\n",
    "        time.sleep(random.choice([x/10 for x in range(7,13)]))\n",
    "    df3 = pd.DataFrame(finrating)\n",
    "    df3.to_csv('finarating.csv')"
   ]
  },
  {
   "cell_type": "code",
   "execution_count": 13,
   "metadata": {},
   "outputs": [
    {
     "data": {
      "text/plain": [
       "(2577, 3)"
      ]
     },
     "execution_count": 13,
     "metadata": {},
     "output_type": "execute_result"
    }
   ],
   "source": [
    "df3.shape"
   ]
  },
  {
   "cell_type": "code",
   "execution_count": 16,
   "metadata": {},
   "outputs": [
    {
     "data": {
      "text/html": [
       "<div>\n",
       "<style scoped>\n",
       "    .dataframe tbody tr th:only-of-type {\n",
       "        vertical-align: middle;\n",
       "    }\n",
       "\n",
       "    .dataframe tbody tr th {\n",
       "        vertical-align: top;\n",
       "    }\n",
       "\n",
       "    .dataframe thead th {\n",
       "        text-align: right;\n",
       "    }\n",
       "</style>\n",
       "<table border=\"1\" class=\"dataframe\">\n",
       "  <thead>\n",
       "    <tr style=\"text-align: right;\">\n",
       "      <th></th>\n",
       "      <th>0</th>\n",
       "      <th>1</th>\n",
       "      <th>2</th>\n",
       "    </tr>\n",
       "  </thead>\n",
       "  <tbody>\n",
       "    <tr>\n",
       "      <th>0</th>\n",
       "      <td>Impact America</td>\n",
       "      <td>91.70</td>\n",
       "      <td>4</td>\n",
       "    </tr>\n",
       "    <tr>\n",
       "      <th>1</th>\n",
       "      <td>Four Corners Ministries</td>\n",
       "      <td>96.10</td>\n",
       "      <td>4</td>\n",
       "    </tr>\n",
       "    <tr>\n",
       "      <th>2</th>\n",
       "      <td>Mobile Symphony Orchestra</td>\n",
       "      <td>66.45</td>\n",
       "      <td>1</td>\n",
       "    </tr>\n",
       "    <tr>\n",
       "      <th>3</th>\n",
       "      <td>Big Oak Ranch</td>\n",
       "      <td>99.11</td>\n",
       "      <td>4</td>\n",
       "    </tr>\n",
       "    <tr>\n",
       "      <th>4</th>\n",
       "      <td>Community Foundation of Greater Huntsville</td>\n",
       "      <td>95.00</td>\n",
       "      <td>4</td>\n",
       "    </tr>\n",
       "  </tbody>\n",
       "</table>\n",
       "</div>"
      ],
      "text/plain": [
       "                                            0      1  2\n",
       "0                              Impact America  91.70  4\n",
       "1                     Four Corners Ministries  96.10  4\n",
       "2                   Mobile Symphony Orchestra  66.45  1\n",
       "3                               Big Oak Ranch  99.11  4\n",
       "4  Community Foundation of Greater Huntsville  95.00  4"
      ]
     },
     "execution_count": 16,
     "metadata": {},
     "output_type": "execute_result"
    }
   ],
   "source": [
    "df3.head()"
   ]
  },
  {
   "cell_type": "code",
   "execution_count": 26,
   "metadata": {},
   "outputs": [
    {
     "data": {
      "text/html": [
       "<div>\n",
       "<style scoped>\n",
       "    .dataframe tbody tr th:only-of-type {\n",
       "        vertical-align: middle;\n",
       "    }\n",
       "\n",
       "    .dataframe tbody tr th {\n",
       "        vertical-align: top;\n",
       "    }\n",
       "\n",
       "    .dataframe thead th {\n",
       "        text-align: right;\n",
       "    }\n",
       "</style>\n",
       "<table border=\"1\" class=\"dataframe\">\n",
       "  <thead>\n",
       "    <tr style=\"text-align: right;\">\n",
       "      <th></th>\n",
       "      <th>0</th>\n",
       "      <th>1</th>\n",
       "      <th>2</th>\n",
       "    </tr>\n",
       "  </thead>\n",
       "  <tbody>\n",
       "    <tr>\n",
       "      <th>2572</th>\n",
       "      <td>Wyoming Outdoor Council</td>\n",
       "      <td>81.85</td>\n",
       "      <td>3</td>\n",
       "    </tr>\n",
       "    <tr>\n",
       "      <th>2573</th>\n",
       "      <td>Wyoming Community Foundation</td>\n",
       "      <td>84.05</td>\n",
       "      <td>3</td>\n",
       "    </tr>\n",
       "    <tr>\n",
       "      <th>2574</th>\n",
       "      <td>Boys &amp; Girls Club of Cheyenne</td>\n",
       "      <td>98.02</td>\n",
       "      <td>4</td>\n",
       "    </tr>\n",
       "    <tr>\n",
       "      <th>2575</th>\n",
       "      <td>Community Center for the Arts</td>\n",
       "      <td>85.73</td>\n",
       "      <td>3</td>\n",
       "    </tr>\n",
       "    <tr>\n",
       "      <th>2576</th>\n",
       "      <td>Grand Teton National Park Foundation</td>\n",
       "      <td>96.07</td>\n",
       "      <td>4</td>\n",
       "    </tr>\n",
       "  </tbody>\n",
       "</table>\n",
       "</div>"
      ],
      "text/plain": [
       "                                         0      1  2\n",
       "2572               Wyoming Outdoor Council  81.85  3\n",
       "2573          Wyoming Community Foundation  84.05  3\n",
       "2574         Boys & Girls Club of Cheyenne  98.02  4\n",
       "2575         Community Center for the Arts  85.73  3\n",
       "2576  Grand Teton National Park Foundation  96.07  4"
      ]
     },
     "execution_count": 26,
     "metadata": {},
     "output_type": "execute_result"
    }
   ],
   "source": [
    "df3.tail()"
   ]
  },
  {
   "cell_type": "code",
   "execution_count": null,
   "metadata": {},
   "outputs": [],
   "source": []
  }
 ],
 "metadata": {
  "kernelspec": {
   "display_name": "Python 3",
   "language": "python",
   "name": "python3"
  },
  "language_info": {
   "codemirror_mode": {
    "name": "ipython",
    "version": 3
   },
   "file_extension": ".py",
   "mimetype": "text/x-python",
   "name": "python",
   "nbconvert_exporter": "python",
   "pygments_lexer": "ipython3",
   "version": "3.6.12"
  }
 },
 "nbformat": 4,
 "nbformat_minor": 4
}
