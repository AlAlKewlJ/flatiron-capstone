{
 "cells": [
  {
   "cell_type": "markdown",
   "metadata": {},
   "source": [
    "## Importing Packages and .CSV"
   ]
  },
  {
   "cell_type": "code",
   "execution_count": 1,
   "metadata": {},
   "outputs": [],
   "source": [
    "import pandas as pd \n",
    "pd.set_option('display.max_columns', None)\n",
    "pd.set_option('display.max_rows', None)\n",
    "import numpy as np \n",
    "\n",
    "#Used for data visualizations\n",
    "import matplotlib.pyplot as plt\n",
    "%matplotlib inline\n",
    "import seaborn as sns\n"
   ]
  },
  {
   "cell_type": "code",
   "execution_count": 2,
   "metadata": {},
   "outputs": [],
   "source": [
    "#Import .csv file\n",
    "df = pd.read_csv('final_df.csv')"
   ]
  },
  {
   "cell_type": "markdown",
   "metadata": {},
   "source": [
    "## Data Cleaning and EDA"
   ]
  },
  {
   "cell_type": "code",
   "execution_count": 3,
   "metadata": {},
   "outputs": [],
   "source": [
    "#After importing the .csv file I changed the column names to help with readability\n",
    "df = df.rename(columns={'0': 'mission', '1': 'tagline', '2': 'name', '3': 'category_name', '4': 'category_ID', '5': 'cause_name', '6': 'cause_ID', '7': 'city', '8': 'state', '9': 'zipcode', \n",
    "                   '10': 'current_score', '11': 'current_rating', '12': 'advisories', '13': 'accountability_score', '14': 'accountability_rating', '15': 'irs_org_type', '16': 'irs_classification', \n",
    "                   '17': 'npo_affiliation', '18': 'foundation_status', '19': 'irs_org_classification', '20': 'tax_deductibility', '21': 'npo_status', '22': 'org_assets', '23': 'org_income', \n",
    "                   '24': 'fin_score', '25': 'fin_rating'})"
   ]
  },
  {
   "cell_type": "markdown",
   "metadata": {},
   "source": [
    "### Data Cleaning "
   ]
  },
  {
   "cell_type": "markdown",
   "metadata": {},
   "source": [
    "#### Dropping features"
   ]
  },
  {
   "cell_type": "code",
   "execution_count": 4,
   "metadata": {},
   "outputs": [],
   "source": [
    "#tagline(23 null) - Dropping because we will not be doing an analysis with taglines\n",
    "#irs_org_type(1906) - Check value counts and determine how important this variable is. Look at the 11 data points and either drop rows or classify as Unknown\n",
    "#irs_classification(22) - Check value counts and determine how important this variable is. Look at the 11 data points and either drop rows or classify as Unknown\n",
    "#irs_org_classification(1906) - Check value counts and determine how important this variable is. Look at the 11 data points and either drop rows or classify as Unknown\n",
    "#mission - dropping because I will not be doing analysis with the mission\n",
    "df = df.drop(columns=['tagline', 'irs_org_type', 'irs_classification',  \n",
    "                      'irs_org_classification', 'mission'])\n",
    "\n",
    "#Dropping because of value counts:\n",
    "#advisories(10794 null) - Dropping because the majority of the data is missing \n",
    "#tax_deductability(9 null) - Dropping because the majority of the organizations are tax deductible\n",
    "#npo_status(9 null) - Dropping because the majority of the data are the same\n",
    "df = df.drop(columns=['advisories','tax_deductibility', 'npo_status']) "
   ]
  },
  {
   "cell_type": "markdown",
   "metadata": {},
   "source": [
    "#### Dealing with missing values"
   ]
  },
  {
   "cell_type": "code",
   "execution_count": 5,
   "metadata": {},
   "outputs": [],
   "source": [
    "#Deleting the missing rows because the missing data isn't significant\n",
    "#npo_affiliation(11) - Check value counts and determine how important this variable is. Look at the 11 data points and either drop rows or classify as Unknown\n",
    "#foundation_status(9) - Check value counts and determine how important this variable is. Look at the 11 data points and either drop rows or classify as Unknown\n",
    "df = df.dropna(subset=['npo_affiliation', 'foundation_status'])\n",
    "\n",
    "#Replace missing values with the mean for org_assets and org_income\n",
    "df['org_assets'] = df['org_assets'].fillna(df['org_assets'].mean())\n",
    "df['org_income'] = df['org_income'].fillna(df['org_income'].mean())"
   ]
  },
  {
   "cell_type": "markdown",
   "metadata": {},
   "source": [
    "## Exploratory Data Analysis "
   ]
  },
  {
   "cell_type": "markdown",
   "metadata": {},
   "source": [
    "#### Plotting organizational income to view distribution"
   ]
  },
  {
   "cell_type": "code",
   "execution_count": 10,
   "metadata": {},
   "outputs": [
    {
     "data": {
      "text/plain": [
       "<AxesSubplot:xlabel='org_income', ylabel='org_assets'>"
      ]
     },
     "execution_count": 10,
     "metadata": {},
     "output_type": "execute_result"
    },
    {
     "data": {
      "image/png": "[encoded data removed]",
      "text/plain": [
       "<Figure size 432x288 with 1 Axes>"
      ]
     },
     "metadata": {
      "needs_background": "light"
     },
     "output_type": "display_data"
    }
   ],
   "source": [
    "#Creating a scatterplot to look at the distribution of org_income\n",
    "sns.scatterplot(data=df, x=df['org_income'], y=df['org_assets'])\n"
   ]
  },
  {
   "cell_type": "markdown",
   "metadata": {},
   "source": [
    "Organization income and assets are important in determining the financial wellbeing of a nonprofit organization. Assets are extremely important to look at because income isn't always guaranteed. Donations and and grants are impacted by financial downturns. This scatterplot shows that as income increases, assets increase as well, which is expected. There are a few outliers that have more assets than income and vice versa. "
   ]
  },
  {
   "cell_type": "markdown",
   "metadata": {},
   "source": [
    "#### Financial Rating Distribution"
   ]
  },
  {
   "cell_type": "code",
   "execution_count": 11,
   "metadata": {},
   "outputs": [
    {
     "data": {
      "text/plain": [
       "Text(0.5, 0.98, 'Financial Rating Distribution')"
      ]
     },
     "execution_count": 11,
     "metadata": {},
     "output_type": "execute_result"
    },
    {
     "data": {
      "image/png": "[encoded data removed]",
      "text/plain": [
       "<Figure size 360x360 with 1 Axes>"
      ]
     },
     "metadata": {
      "needs_background": "light"
     },
     "output_type": "display_data"
    }
   ],
   "source": [
    "#fin_rating is going to be my target variable. I want to first look at the distribution of the financial ratings. \n",
    "g = sns.catplot(x=df['fin_rating'], kind='count', palette=None, data= df)\n",
    "g.set_axis_labels('Financial Rating', 'Count')\n",
    "g.fig.suptitle('Financial Rating Distribution')"
   ]
  },
  {
   "cell_type": "markdown",
   "metadata": {},
   "source": [
    "Because financial ratings are the target variable, it important to look at the distribution of these ratings. The ratings range from 0 to 4. There seems to be more organizations in this dataset that receive 3's and 4's as opposed to 0, 1, and 2. I want to make this feature categorial so I will group 0, 1, and 2 as 0 (which will represent low financial ratings) and 3 and 4 as high financial rating as 1. "
   ]
  },
  {
   "cell_type": "code",
   "execution_count": 12,
   "metadata": {},
   "outputs": [],
   "source": [
    "df['fin_rating'] = df['fin_rating'].replace([1, 2, 3, 4], [0, 0, 1, 1])"
   ]
  },
  {
   "cell_type": "code",
   "execution_count": 13,
   "metadata": {},
   "outputs": [
    {
     "data": {
      "text/plain": [
       "Text(0.5, 0.98, 'Financial Rating Distribution')"
      ]
     },
     "execution_count": 13,
     "metadata": {},
     "output_type": "execute_result"
    },
    {
     "data": {
      "image/png": "[encoded data removed]",
      "text/plain": [
       "<Figure size 360x360 with 1 Axes>"
      ]
     },
     "metadata": {
      "needs_background": "light"
     },
     "output_type": "display_data"
    }
   ],
   "source": [
    "\n",
    "h = sns.catplot(x=df['fin_rating'], kind='count', palette=None, data= df)\n",
    "h.set_axis_labels('Financial Rating', 'Count')\n",
    "h.fig.suptitle('Financial Rating Distribution')"
   ]
  },
  {
   "cell_type": "markdown",
   "metadata": {},
   "source": [
    "After plotting this, we see a huge class imbalance that should be considered while building the models"
   ]
  },
  {
   "cell_type": "markdown",
   "metadata": {},
   "source": [
    "# Feature Engineering"
   ]
  },
  {
   "cell_type": "markdown",
   "metadata": {},
   "source": [
    "#### Grouped states into regions"
   ]
  },
  {
   "cell_type": "markdown",
   "metadata": {},
   "source": [
    "The financial wellbeing of an organization can be impacted by location. Some regions of the United States are more affluent and because of population density and where the money is located, regions like the Northeast and West (particularly California) recieve more donations than organizations located in the Southeast. This might be an important feature in my model so I've decided to group the states into the following regions. "
   ]
  },
  {
   "cell_type": "code",
   "execution_count": 36,
   "metadata": {},
   "outputs": [],
   "source": [
    "df['Southeast'] = (df['state'] == 'MD') | (df['state'] =='DC') | (df['state'] =='DE') | (df['state'] =='WV') | (df['state'] =='VA') | (df['state'] =='KY') | (df['state'] =='NC') | (df['state'] =='TN') | (df['state'] =='SC') | (df['state'] =='GA') | (df['state'] =='FL') | (df['state'] =='AL') | (df['state'] =='MS') | (df['state'] =='AR') | (df['state'] =='LA')\n",
    "df['Southeast'] = df['Southeast'].replace([True, False] , [1,0]) \n",
    "                                          \n",
    "df['Northeast'] = (df['state'] == 'ME') | (df['state'] =='NH') | (df['state'] =='MA') | (df['state'] =='VT') | (df['state'] =='RI') | (df['state'] =='CT') | (df['state'] =='NY') | (df['state'] =='PA') | (df['state'] == 'NJ')\n",
    "df['Northeast'] = df['Northeast'].replace([True, False] , [1,0])\n",
    "\n",
    "df['Midwest'] = (df['state'] == 'OH') | (df['state'] =='MI') | (df['state'] =='IN') | (df['state'] =='IL') | (df['state'] =='WI') | (df['state'] =='MN') | (df['state'] =='IA') | (df['state'] =='MO') | (df['state'] =='ND') | (df['state'] =='SD') | (df['state'] =='NE') | (df['state'] =='KS')\n",
    "df['Midwest'] = df['Midwest'].replace([True, False], [1,0]) \n",
    "\n",
    "\n",
    "df['Southwest'] = (df['state'] == 'AZ') | (df['state'] == 'NM') | (df['state'] =='TX') | (df['state'] =='OK')\n",
    "df['Southwest'] = df['Southwest'].replace([True, False], [1,0])\n",
    "\n",
    "\n",
    "df['West'] = (df['state'] ==\"CA\") | (df['state'] ==\"HI\") |  (df['state'] == \"AK\") | (df['state'] == \"OR\") | (df['state'] == \"WA\") | (df['state'] ==\"ID\") | (df['state'] ==\"NV\") | (df['state'] ==\"UT\") | (df['state'] ==\"CO\") | (df['state'] ==\"WY\") | (df['state'] ==\"MT\")\n",
    "df['West'] = df['West'].replace([True, False], [1,0])"
   ]
  },
  {
   "cell_type": "markdown",
   "metadata": {},
   "source": [
    "#### Creating Dummy Variables"
   ]
  },
  {
   "cell_type": "markdown",
   "metadata": {},
   "source": [
    "I want to now create some dummy variables out of some of the columns. The columns I am working with are categorical. However, I would like to to make each value bivariate. Different causes and organization categories are more popular than others. The purpose of this is to see if these categorical descriptions of organization have an impact on the organization's financial rating (i.e. does an organization have a higher financial rating because because its cause is more popular)."
   ]
  },
  {
   "cell_type": "code",
   "execution_count": 11,
   "metadata": {},
   "outputs": [],
   "source": [
    "#Creating dummy variables\n",
    "df_foundation_status = pd.get_dummies(df['foundation_status'], drop_first= True)\n",
    "df_category_name = pd.get_dummies(df['category_name'], drop_first= True)\n",
    "df_cause_name = pd.get_dummies(df['cause_name'], drop_first= True)\n",
    "df_npo_affiliation = pd.get_dummies(df['npo_affiliation'], drop_first= True)\n",
    "\n",
    "#Concat dummy variables dataframes with original dataframe, dropping duplicates and deleting the index column\n",
    "df_foundation_status = pd.concat([df, df_foundation_status], axis=1)\n",
    "df_category_name = pd.concat([df, df_category_name], axis=1)\n",
    "df_cause_name = pd.concat([df, df_cause_name], axis=1)\n",
    "df_npo_affiliation = pd.concat([df, df_npo_affiliation ], axis=1)\n",
    "\n",
    "# Combining dummy variables with each other \n",
    "df2 = pd.concat([df_category_name, df_foundation_status], axis=1)\n",
    "df3 = pd.concat([df_npo_affiliation, df_cause_name], axis=1)\n",
    "\n",
    "# Combining dataframes into final dataframe\n",
    "df4 = pd.concat([df2, df3], axis=1)\n",
    "\n",
    "#Dropping all duplicates\n",
    "df4 = df4.T.drop_duplicates().T"
   ]
  },
  {
   "cell_type": "code",
   "execution_count": 12,
   "metadata": {},
   "outputs": [],
   "source": [
    "#Dropping duplicate colummns and features that I created the dummy variable out of\n",
    "df4 = df4.drop(columns= ['index','Unnamed: 0', 'name', 'category_name', 'cause_name', 'city', 'state', 'foundation_status', 'npo_affiliation'])"
   ]
  },
  {
   "cell_type": "code",
   "execution_count": 13,
   "metadata": {},
   "outputs": [],
   "source": [
    "#Changing the names of the columns once more to make them more readable\n",
    "df4.columns = ['category_id', 'cause_id', 'zipcode', 'current_score', 'current_rating', 'accountability_score', 'accountability_rating', 'org_assets', 'org_income', 'fin_score', 'fin_rating', \n",
    "              'southeast', 'northeast', 'midwest', 'southwest', 'west', 'arts_culture_humanities','community_development', 'education', 'environment', 'health', 'human_services', 'human_and_civil_rights', \n",
    "                'international', 'religion', 'research_and_public_policy', '509(a)(3)_type_ii', '509(a)(3)_type_iii', 'church_170(b)(1)(a)(i)', 'governmental_unit_170(b)(1)(a)(v)', 'hospital_medical_research_170(b)(1)(a)(iii)',\n",
    "               '509(a)(2)', '170(b)(1)(a)(iv)', '170(b)(1)(a)(vi)', '509(a)(3)', 'private_non-operating_foundation', 'school_170(b)(1)(a)(ii)', 'central_church', 'central_not_a_church501(c)(1)',\n",
    "               'independent', 'intermediate', 'subordinate', 'animal_rights_welfare_and_services', 'botanical_gardens_parks_and_nature_centers', 'children_and_family_services', 'community_foundations',\n",
    "               'development_and_relief_services', 'diseases_disorders_and_disciplines', 'early_childhood_programs_and_services', 'education_policy_and_reform', 'environmental_protection_and_conservation',\n",
    "               'food_banks_pantries_and_distribution', 'homeless_services', 'housing_and_neighborhood_development', 'humanitarian_relief_supplies', 'international_peace_security_and_affairs', \n",
    "               'jewish_federations', 'libraries_historical_societies_and_landmark_preservation', 'medical_research', 'multipurpose_human_service_organizations', 'museums', 'non-medical_science_&_technology_research',\n",
    "               'patient_and_family_support', 'performing_arts', 'public_broadcasting_and_media', 'religious_activities', 'religious_media_and_broadcasting', 'rescue_missions', 'scholarship_and_financial_support', \n",
    "               'social_services', 'social_and_public_policy_research', 'special_education', 'treatment_and_prevention_services', 'united_ways', 'wildlife_conservation', 'youth_development,_shelter,_and_crisis_services',\n",
    "               'youth_education_programs_and_services', 'zoos_and_aquariums']"
   ]
  },
  {
   "cell_type": "markdown",
   "metadata": {},
   "source": [
    "# Saving DF as a CSV File"
   ]
  },
  {
   "cell_type": "code",
   "execution_count": 14,
   "metadata": {},
   "outputs": [],
   "source": [
    "#Converting final dataframe into a .csv file\n",
    "df4.to_csv('df4.csv')"
   ]
  }
 ],
 "metadata": {
  "kernelspec": {
   "display_name": "Python 3",
   "language": "python",
   "name": "python3"
  },
  "language_info": {
   "codemirror_mode": {
    "name": "ipython",
    "version": 3
   },
   "file_extension": ".py",
   "mimetype": "text/x-python",
   "name": "python",
   "nbconvert_exporter": "python",
   "pygments_lexer": "ipython3",
   "version": "3.6.12"
  }
 },
 "nbformat": 4,
 "nbformat_minor": 4
}
