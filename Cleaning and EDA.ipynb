{
 "cells": [
  {
   "cell_type": "code",
   "execution_count": 1,
   "metadata": {},
   "outputs": [],
   "source": [
    "import pandas as pd \n",
    "import numpy as np \n",
    "\n",
    "from string import ascii_letters\n",
    "import matplotlib.pyplot as plt\n",
    "%matplotlib inline\n",
    "import seaborn as sns"
   ]
  },
  {
   "cell_type": "code",
   "execution_count": 2,
   "metadata": {},
   "outputs": [],
   "source": [
    "df = pd.read_csv('final_df.csv')"
   ]
  },
  {
   "cell_type": "markdown",
   "metadata": {},
   "source": [
    "# Data Cleaning and EDA"
   ]
  },
  {
   "cell_type": "markdown",
   "metadata": {},
   "source": [
    "Labeling the columns and getting rid of the extra index columns that remained after concatination of dataframes "
   ]
  },
  {
   "cell_type": "code",
   "execution_count": 3,
   "metadata": {},
   "outputs": [],
   "source": [
    "df = df.rename(columns={'0': 'mission', '1': 'tagline', '2': 'name', '3': 'category_name', '4': 'category_ID', '5': 'cause_name', '6': 'cause_ID', '7': 'city', '8': 'state', '9': 'zipcode', \n",
    "                   '10': 'current_score', '11': 'current_rating', '12': 'advisories', '13': 'accountability_score', '14': 'accountability_rating', '15': 'irs_org_type', '16': 'irs_classification', \n",
    "                   '17': 'npo_affilitation', '18': 'foundation_status', '19': 'irs_org_classification', '20': 'tax_deductibility', '21': 'npo_status', '22': 'org_assets', '23': 'org_income', \n",
    "                   '24': 'fin_score', '25': 'fin_rating'})"
   ]
  },
  {
   "cell_type": "code",
   "execution_count": 4,
   "metadata": {},
   "outputs": [
    {
     "data": {
      "text/plain": [
       "Unnamed: 0                  int64\n",
       "index                       int64\n",
       "mission                    object\n",
       "tagline                    object\n",
       "name                       object\n",
       "category_name              object\n",
       "category_ID                 int64\n",
       "cause_name                 object\n",
       "cause_ID                    int64\n",
       "city                       object\n",
       "state                      object\n",
       "zipcode                     int64\n",
       "current_score             float64\n",
       "current_rating              int64\n",
       "advisories                 object\n",
       "accountability_score        int64\n",
       "accountability_rating       int64\n",
       "irs_org_type               object\n",
       "irs_classification         object\n",
       "npo_affilitation           object\n",
       "foundation_status          object\n",
       "irs_org_classification     object\n",
       "tax_deductibility          object\n",
       "npo_status                 object\n",
       "org_assets                float64\n",
       "org_income                float64\n",
       "fin_score                 float64\n",
       "fin_rating                  int64\n",
       "dtype: object"
      ]
     },
     "execution_count": 4,
     "metadata": {},
     "output_type": "execute_result"
    }
   ],
   "source": [
    "#Reviewing data types\n",
    "df.dtypes"
   ]
  },
  {
   "cell_type": "code",
   "execution_count": 5,
   "metadata": {},
   "outputs": [
    {
     "data": {
      "text/plain": [
       "Unnamed: 0                    0\n",
       "index                         0\n",
       "mission                       0\n",
       "tagline                      23\n",
       "name                          0\n",
       "category_name                 0\n",
       "category_ID                   0\n",
       "cause_name                    0\n",
       "cause_ID                      0\n",
       "city                          0\n",
       "state                         0\n",
       "zipcode                       0\n",
       "current_score                 0\n",
       "current_rating                0\n",
       "advisories                10794\n",
       "accountability_score          0\n",
       "accountability_rating         0\n",
       "irs_org_type               1906\n",
       "irs_classification           22\n",
       "npo_affilitation             11\n",
       "foundation_status             9\n",
       "irs_org_classification     1906\n",
       "tax_deductibility             9\n",
       "npo_status                    9\n",
       "org_assets                  117\n",
       "org_income                  117\n",
       "fin_score                     0\n",
       "fin_rating                    0\n",
       "dtype: int64"
      ]
     },
     "execution_count": 5,
     "metadata": {},
     "output_type": "execute_result"
    }
   ],
   "source": [
    "#check for null values\n",
    "df.isnull().sum()"
   ]
  },
  {
   "cell_type": "code",
   "execution_count": 6,
   "metadata": {},
   "outputs": [],
   "source": [
    "#Null values are tagline(23) advisories(10794), irs_org_type(1906), irs_classification(1906), tax_deductability(9), npo_status(9), org_assets(117), org_income(117)"
   ]
  },
  {
   "cell_type": "code",
   "execution_count": 6,
   "metadata": {},
   "outputs": [
    {
     "data": {
      "text/plain": [
       "501(c)(3)    10809\n",
       "Name: npo_status, dtype: int64"
      ]
     },
     "execution_count": 6,
     "metadata": {},
     "output_type": "execute_result"
    }
   ],
   "source": [
    "#the majority of the organizations are 501(c)(3). Because of that we can drop this column\n",
    "df['npo_status'].value_counts()"
   ]
  },
  {
   "cell_type": "code",
   "execution_count": 7,
   "metadata": {},
   "outputs": [
    {
     "data": {
      "text/plain": [
       "Contributions are deductible        10802\n",
       "Deductibility not specified             6\n",
       "Contributions are not deductible        1\n",
       "Name: tax_deductibility, dtype: int64"
      ]
     },
     "execution_count": 7,
     "metadata": {},
     "output_type": "execute_result"
    }
   ],
   "source": [
    "#almost all of the organiations in the dataset are also tax deductible \n",
    "df['tax_deductibility'].value_counts()"
   ]
  },
  {
   "cell_type": "code",
   "execution_count": 8,
   "metadata": {},
   "outputs": [
    {
     "data": {
      "text/plain": [
       "Human Services                3029\n",
       "Arts, Culture, Humanities     1565\n",
       "Health                        1092\n",
       "Community Development         1089\n",
       "Education                      840\n",
       "International                  754\n",
       "Animals                        623\n",
       "Religion                       559\n",
       "Environment                    542\n",
       "Human and Civil Rights         463\n",
       "Research and Public Policy     262\n",
       "Name: category_name, dtype: int64"
      ]
     },
     "execution_count": 8,
     "metadata": {},
     "output_type": "execute_result"
    }
   ],
   "source": [
    "#View category_name values\n",
    "df['category_name'].value_counts()"
   ]
  },
  {
   "cell_type": "code",
   "execution_count": 9,
   "metadata": {},
   "outputs": [
    {
     "data": {
      "text/plain": [
       "Social Services                                              890\n",
       "Youth Development, Shelter, and Crisis Services              726\n",
       "Performing Arts                                              724\n",
       "Museums                                                      514\n",
       "United Ways                                                  507\n",
       "Development and Relief Services                              476\n",
       "Advocacy and Education                                       463\n",
       "Youth Education Programs and Services                        429\n",
       "Children's and Family Services                               429\n",
       "Animal Rights, Welfare, and Services                         408\n",
       "Environmental Protection and Conservation                    406\n",
       "Religious Activities                                         377\n",
       "Patient and Family Support                                   373\n",
       "Housing and Neighborhood Development                         313\n",
       "Diseases, Disorders, and Disciplines                         300\n",
       "Food Banks, Food Pantries, and Food Distribution             296\n",
       "Multipurpose Human Service Organizations                     283\n",
       "Treatment and Prevention Services                            246\n",
       "Social and Public Policy Research                            229\n",
       "International Peace, Security, and Affairs                   218\n",
       "Homeless Services                                            205\n",
       "Scholarship and Financial Support                            201\n",
       "Rescue Missions                                              200\n",
       "Religious Media and Broadcasting                             182\n",
       "Medical Research                                             173\n",
       "Public Broadcasting and Media                                167\n",
       "Community Foundations                                        166\n",
       "Libraries, Historical Societies and Landmark Preservation    160\n",
       "Botanical Gardens, Parks, and Nature Centers                 136\n",
       "Wildlife Conservation                                        128\n",
       "Jewish Federations                                           103\n",
       "Zoos and Aquariums                                            87\n",
       "Adult Education Programs and Services                         87\n",
       "Education Policy and Reform                                   62\n",
       "Humanitarian Relief Supplies                                  60\n",
       "Early Childhood Programs and Services                         35\n",
       "Non-Medical Science & Technology Research                     33\n",
       "Special Education                                             26\n",
       "Name: cause_name, dtype: int64"
      ]
     },
     "execution_count": 9,
     "metadata": {},
     "output_type": "execute_result"
    }
   ],
   "source": [
    "#View cause_name values\n",
    "df['cause_name'].value_counts()"
   ]
  },
  {
   "cell_type": "code",
   "execution_count": 10,
   "metadata": {
    "jupyter": {
     "source_hidden": true
    }
   },
   "outputs": [
    {
     "data": {
      "text/plain": [
       "Charitable Organization                        8161\n",
       "Educational Organization                       1926\n",
       "Religious Organization                          367\n",
       "Organization to Prevent Cruelty to Animals      231\n",
       "Literary Organization                            43\n",
       "Scientific Organization                          42\n",
       "Organization to Prevent Cruelty to Children      21\n",
       "Organization for Public Safety Testing            5\n",
       "Name: irs_classification, dtype: int64"
      ]
     },
     "execution_count": 10,
     "metadata": {},
     "output_type": "execute_result"
    }
   ],
   "source": [
    "#irs_classification\n",
    "df['irs_classification'].value_counts()"
   ]
  },
  {
   "cell_type": "code",
   "execution_count": 11,
   "metadata": {
    "jupyter": {
     "source_hidden": true
    }
   },
   "outputs": [
    {
     "data": {
      "text/plain": [
       "Arts, Culture and Humanities                             1472\n",
       "Human Services - Multipurpose and Other                  1255\n",
       "Philanthropy, Voluntarism and Grantmaking Foundations     837\n",
       "International, Foreign Affairs and National Security      685\n",
       "Animal-Related                                            554\n",
       "Educational Institutions and Related Activities           502\n",
       "Environmental Quality, Protection and Beautification      458\n",
       "Religion-Related, Spiritual Development                   403\n",
       "Youth Development                                         382\n",
       "Health - General and Rehabilitative                       373\n",
       "Housing, Shelter                                          290\n",
       "Food, Agriculture and Nutrition                           289\n",
       "Diseases, Disorders, Medical Disciplines                  195\n",
       "Recreation, Sports, Leisure, Athletics                    179\n",
       "Crime, Legal-Related                                      165\n",
       "Civil Rights, Social Action, Advocacy                     158\n",
       "Community Improvement, Capacity Building                  130\n",
       "Medical Research                                          112\n",
       "Public, Society Benefit - Multipurpose and Other          104\n",
       "Unknown                                                    96\n",
       "Mental Health, Crisis Intervention                         82\n",
       "Employment, Job-Related                                    67\n",
       "Science and Technology Research Institutes, Services       55\n",
       "Social Science Research Institutes, Services               41\n",
       "Public Safety, Disaster Preparedness and Relief            25\n",
       "Mutual/Membership Benefit Organizations, Other              3\n",
       "Name: irs_org_type, dtype: int64"
      ]
     },
     "execution_count": 11,
     "metadata": {},
     "output_type": "execute_result"
    }
   ],
   "source": [
    "#irs_org_type\n",
    "df['irs_org_type'].value_counts()"
   ]
  },
  {
   "cell_type": "code",
   "execution_count": 12,
   "metadata": {},
   "outputs": [
    {
     "data": {
      "text/plain": [
       "CA    1170\n",
       "NY    1071\n",
       "DC     597\n",
       "TX     590\n",
       "FL     552\n",
       "MA     478\n",
       "VA     436\n",
       "IL     410\n",
       "PA     381\n",
       "CO     324\n",
       "OH     322\n",
       "WA     283\n",
       "MN     274\n",
       "MI     272\n",
       "GA     272\n",
       "NC     271\n",
       "TN     240\n",
       "MD     239\n",
       "NJ     218\n",
       "MO     211\n",
       "CT     175\n",
       "WI     171\n",
       "AZ     162\n",
       "IN     158\n",
       "OR     157\n",
       "SC     106\n",
       "OK     101\n",
       "KY      95\n",
       "AL      83\n",
       "NE      82\n",
       "LA      75\n",
       "KS      74\n",
       "IA      63\n",
       "UT      62\n",
       "MT      61\n",
       "ME      59\n",
       "NM      52\n",
       "MS      48\n",
       "AR      46\n",
       "NV      45\n",
       "NH      44\n",
       "VT      42\n",
       "RI      42\n",
       "ID      35\n",
       "SD      34\n",
       "HI      29\n",
       "DE      27\n",
       "AK      23\n",
       "WV      21\n",
       "WY      20\n",
       "ND      11\n",
       "PR       3\n",
       "VI       1\n",
       "Name: state, dtype: int64"
      ]
     },
     "execution_count": 12,
     "metadata": {},
     "output_type": "execute_result"
    }
   ],
   "source": [
    "df['state'].value_counts()"
   ]
  },
  {
   "cell_type": "markdown",
   "metadata": {},
   "source": [
    "### Current Rating Distribution"
   ]
  },
  {
   "cell_type": "code",
   "execution_count": 13,
   "metadata": {},
   "outputs": [
    {
     "data": {
      "text/plain": [
       "3    4955\n",
       "4    4304\n",
       "2    1238\n",
       "1     272\n",
       "0      49\n",
       "Name: current_rating, dtype: int64"
      ]
     },
     "execution_count": 13,
     "metadata": {},
     "output_type": "execute_result"
    }
   ],
   "source": [
    "#View current ratings \n",
    "df['current_rating'].value_counts()"
   ]
  },
  {
   "cell_type": "code",
   "execution_count": 14,
   "metadata": {},
   "outputs": [
    {
     "data": {
      "text/plain": [
       "<seaborn.axisgrid.FacetGrid at 0x7fc41a7ca5c0>"
      ]
     },
     "execution_count": 14,
     "metadata": {},
     "output_type": "execute_result"
    },
    {
     "data": {
      "image/png": "[encoded data removed]",
      "text/plain": [
       "<Figure size 360x360 with 1 Axes>"
      ]
     },
     "metadata": {
      "needs_background": "light"
     },
     "output_type": "display_data"
    }
   ],
   "source": [
    "sns.catplot(x=df['current_rating'], kind='count', palette=None, data= df)"
   ]
  },
  {
   "cell_type": "markdown",
   "metadata": {},
   "source": [
    "### Accountability Rating Distribution"
   ]
  },
  {
   "cell_type": "code",
   "execution_count": 15,
   "metadata": {},
   "outputs": [
    {
     "data": {
      "text/plain": [
       "4    6585\n",
       "3    3183\n",
       "2     632\n",
       "1     322\n",
       "0      96\n",
       "Name: accountability_rating, dtype: int64"
      ]
     },
     "execution_count": 15,
     "metadata": {},
     "output_type": "execute_result"
    }
   ],
   "source": [
    "#Accountability_rating value counts\n",
    "df['accountability_rating'].value_counts()"
   ]
  },
  {
   "cell_type": "code",
   "execution_count": 16,
   "metadata": {},
   "outputs": [
    {
     "data": {
      "text/plain": [
       "<seaborn.axisgrid.FacetGrid at 0x7fc41537d6a0>"
      ]
     },
     "execution_count": 16,
     "metadata": {},
     "output_type": "execute_result"
    },
    {
     "data": {
      "image/png": "[encoded data removed]",
      "text/plain": [
       "<Figure size 360x360 with 1 Axes>"
      ]
     },
     "metadata": {
      "needs_background": "light"
     },
     "output_type": "display_data"
    }
   ],
   "source": [
    "sns.catplot(x=df['accountability_rating'], kind='count', palette=None, data= df)"
   ]
  },
  {
   "cell_type": "markdown",
   "metadata": {},
   "source": [
    "### Financial Rating Distribution"
   ]
  },
  {
   "cell_type": "code",
   "execution_count": 17,
   "metadata": {},
   "outputs": [
    {
     "data": {
      "text/plain": [
       "3    4509\n",
       "4    3883\n",
       "2    1890\n",
       "1     479\n",
       "0      57\n",
       "Name: fin_rating, dtype: int64"
      ]
     },
     "execution_count": 17,
     "metadata": {},
     "output_type": "execute_result"
    }
   ],
   "source": [
    "#fin_rating\n",
    "df['fin_rating'].value_counts()"
   ]
  },
  {
   "cell_type": "code",
   "execution_count": 18,
   "metadata": {},
   "outputs": [
    {
     "data": {
      "text/plain": [
       "<seaborn.axisgrid.FacetGrid at 0x7fc41b11bb70>"
      ]
     },
     "execution_count": 18,
     "metadata": {},
     "output_type": "execute_result"
    },
    {
     "data": {
      "image/png": "[encoded data removed]",
      "text/plain": [
       "<Figure size 360x360 with 1 Axes>"
      ]
     },
     "metadata": {
      "needs_background": "light"
     },
     "output_type": "display_data"
    }
   ],
   "source": [
    "sns.catplot(x=df['fin_rating'], kind='count', palette=None, data= df)"
   ]
  },
  {
   "cell_type": "code",
   "execution_count": 19,
   "metadata": {},
   "outputs": [],
   "source": [
    "#Dropping unhelpful values  advisories because there are 10794 missing values\n",
    "df = df.drop(columns=['index', 'Unnamed: 0','advisories', 'npo_status', 'tax_deductibility', \n",
    "                    'irs_org_type', 'irs_classification', 'irs_org_type', 'zipcode', \n",
    "                    'irs_org_classification'])"
   ]
  },
  {
   "cell_type": "code",
   "execution_count": 20,
   "metadata": {},
   "outputs": [
    {
     "data": {
      "text/html": [
       "<div>\n",
       "<style scoped>\n",
       "    .dataframe tbody tr th:only-of-type {\n",
       "        vertical-align: middle;\n",
       "    }\n",
       "\n",
       "    .dataframe tbody tr th {\n",
       "        vertical-align: top;\n",
       "    }\n",
       "\n",
       "    .dataframe thead th {\n",
       "        text-align: right;\n",
       "    }\n",
       "</style>\n",
       "<table border=\"1\" class=\"dataframe\">\n",
       "  <thead>\n",
       "    <tr style=\"text-align: right;\">\n",
       "      <th></th>\n",
       "      <th>mission</th>\n",
       "      <th>tagline</th>\n",
       "      <th>name</th>\n",
       "      <th>category_name</th>\n",
       "      <th>category_ID</th>\n",
       "      <th>cause_name</th>\n",
       "      <th>cause_ID</th>\n",
       "      <th>city</th>\n",
       "      <th>state</th>\n",
       "      <th>current_score</th>\n",
       "      <th>current_rating</th>\n",
       "      <th>accountability_score</th>\n",
       "      <th>accountability_rating</th>\n",
       "      <th>npo_affilitation</th>\n",
       "      <th>foundation_status</th>\n",
       "      <th>org_assets</th>\n",
       "      <th>org_income</th>\n",
       "      <th>fin_score</th>\n",
       "      <th>fin_rating</th>\n",
       "    </tr>\n",
       "  </thead>\n",
       "  <tbody>\n",
       "    <tr>\n",
       "      <th>0</th>\n",
       "      <td>Impact Alabama was founded in 2004 as the stat...</td>\n",
       "      <td>Engaging a Generation for Change.</td>\n",
       "      <td>Impact America</td>\n",
       "      <td>Human Services</td>\n",
       "      <td>6</td>\n",
       "      <td>Social Services</td>\n",
       "      <td>29</td>\n",
       "      <td>Birmingham</td>\n",
       "      <td>AL</td>\n",
       "      <td>85.98</td>\n",
       "      <td>3</td>\n",
       "      <td>82</td>\n",
       "      <td>3</td>\n",
       "      <td>Independent - the organization is an independe...</td>\n",
       "      <td>Organization which receives a substantial part...</td>\n",
       "      <td>2032739.0</td>\n",
       "      <td>3364323.0</td>\n",
       "      <td>91.70</td>\n",
       "      <td>4</td>\n",
       "    </tr>\n",
       "    <tr>\n",
       "      <th>1</th>\n",
       "      <td>Four Corners Ministries exists to communicate ...</td>\n",
       "      <td>The Gospel Sent</td>\n",
       "      <td>Four Corners Ministries</td>\n",
       "      <td>Religion</td>\n",
       "      <td>9</td>\n",
       "      <td>Religious Activities</td>\n",
       "      <td>26</td>\n",
       "      <td>Opelika</td>\n",
       "      <td>AL</td>\n",
       "      <td>89.04</td>\n",
       "      <td>3</td>\n",
       "      <td>85</td>\n",
       "      <td>3</td>\n",
       "      <td>Independent - the organization is an independe...</td>\n",
       "      <td>Organization that normally receives no more th...</td>\n",
       "      <td>2602296.0</td>\n",
       "      <td>1930948.0</td>\n",
       "      <td>96.10</td>\n",
       "      <td>4</td>\n",
       "    </tr>\n",
       "    <tr>\n",
       "      <th>2</th>\n",
       "      <td>The Mobile Symphony Orchestra enhances lives b...</td>\n",
       "      <td>Working to create an environment that allows f...</td>\n",
       "      <td>Mobile Symphony Orchestra</td>\n",
       "      <td>Arts, Culture, Humanities</td>\n",
       "      <td>2</td>\n",
       "      <td>Performing Arts</td>\n",
       "      <td>4</td>\n",
       "      <td>Mobile</td>\n",
       "      <td>AL</td>\n",
       "      <td>75.03</td>\n",
       "      <td>2</td>\n",
       "      <td>89</td>\n",
       "      <td>3</td>\n",
       "      <td>Independent - the organization is an independe...</td>\n",
       "      <td>Organization that normally receives no more th...</td>\n",
       "      <td>1162334.0</td>\n",
       "      <td>1597054.0</td>\n",
       "      <td>66.45</td>\n",
       "      <td>1</td>\n",
       "    </tr>\n",
       "    <tr>\n",
       "      <th>3</th>\n",
       "      <td>Big Oak Ranch is a Christian home for children...</td>\n",
       "      <td>A Christian home for children needing a chance</td>\n",
       "      <td>Big Oak Ranch</td>\n",
       "      <td>Human Services</td>\n",
       "      <td>6</td>\n",
       "      <td>Youth Development, Shelter, and Crisis Services</td>\n",
       "      <td>16</td>\n",
       "      <td>Springville</td>\n",
       "      <td>AL</td>\n",
       "      <td>95.01</td>\n",
       "      <td>4</td>\n",
       "      <td>93</td>\n",
       "      <td>4</td>\n",
       "      <td>Independent - the organization is an independe...</td>\n",
       "      <td>Organization which receives a substantial part...</td>\n",
       "      <td>49861768.0</td>\n",
       "      <td>22928887.0</td>\n",
       "      <td>99.11</td>\n",
       "      <td>4</td>\n",
       "    </tr>\n",
       "    <tr>\n",
       "      <th>4</th>\n",
       "      <td>The Community Foundation of Greater Huntsville...</td>\n",
       "      <td>A Smart Place to Give</td>\n",
       "      <td>Community Foundation of Greater Huntsville</td>\n",
       "      <td>Community Development</td>\n",
       "      <td>10</td>\n",
       "      <td>Community Foundations</td>\n",
       "      <td>22</td>\n",
       "      <td>Huntsville</td>\n",
       "      <td>AL</td>\n",
       "      <td>95.47</td>\n",
       "      <td>4</td>\n",
       "      <td>96</td>\n",
       "      <td>4</td>\n",
       "      <td>Independent - the organization is an independe...</td>\n",
       "      <td>Organization which receives a substantial part...</td>\n",
       "      <td>25229948.0</td>\n",
       "      <td>12989927.0</td>\n",
       "      <td>95.00</td>\n",
       "      <td>4</td>\n",
       "    </tr>\n",
       "  </tbody>\n",
       "</table>\n",
       "</div>"
      ],
      "text/plain": [
       "                                             mission  \\\n",
       "0  Impact Alabama was founded in 2004 as the stat...   \n",
       "1  Four Corners Ministries exists to communicate ...   \n",
       "2  The Mobile Symphony Orchestra enhances lives b...   \n",
       "3  Big Oak Ranch is a Christian home for children...   \n",
       "4  The Community Foundation of Greater Huntsville...   \n",
       "\n",
       "                                             tagline  \\\n",
       "0                  Engaging a Generation for Change.   \n",
       "1                                    The Gospel Sent   \n",
       "2  Working to create an environment that allows f...   \n",
       "3     A Christian home for children needing a chance   \n",
       "4                              A Smart Place to Give   \n",
       "\n",
       "                                         name              category_name  \\\n",
       "0                              Impact America             Human Services   \n",
       "1                     Four Corners Ministries                   Religion   \n",
       "2                   Mobile Symphony Orchestra  Arts, Culture, Humanities   \n",
       "3                               Big Oak Ranch             Human Services   \n",
       "4  Community Foundation of Greater Huntsville      Community Development   \n",
       "\n",
       "   category_ID                                       cause_name  cause_ID  \\\n",
       "0            6                                  Social Services        29   \n",
       "1            9                             Religious Activities        26   \n",
       "2            2                                  Performing Arts         4   \n",
       "3            6  Youth Development, Shelter, and Crisis Services        16   \n",
       "4           10                            Community Foundations        22   \n",
       "\n",
       "          city state  current_score  current_rating  accountability_score  \\\n",
       "0   Birmingham    AL          85.98               3                    82   \n",
       "1      Opelika    AL          89.04               3                    85   \n",
       "2       Mobile    AL          75.03               2                    89   \n",
       "3  Springville    AL          95.01               4                    93   \n",
       "4   Huntsville    AL          95.47               4                    96   \n",
       "\n",
       "   accountability_rating                                   npo_affilitation  \\\n",
       "0                      3  Independent - the organization is an independe...   \n",
       "1                      3  Independent - the organization is an independe...   \n",
       "2                      3  Independent - the organization is an independe...   \n",
       "3                      4  Independent - the organization is an independe...   \n",
       "4                      4  Independent - the organization is an independe...   \n",
       "\n",
       "                                   foundation_status  org_assets  org_income  \\\n",
       "0  Organization which receives a substantial part...   2032739.0   3364323.0   \n",
       "1  Organization that normally receives no more th...   2602296.0   1930948.0   \n",
       "2  Organization that normally receives no more th...   1162334.0   1597054.0   \n",
       "3  Organization which receives a substantial part...  49861768.0  22928887.0   \n",
       "4  Organization which receives a substantial part...  25229948.0  12989927.0   \n",
       "\n",
       "   fin_score  fin_rating  \n",
       "0      91.70           4  \n",
       "1      96.10           4  \n",
       "2      66.45           1  \n",
       "3      99.11           4  \n",
       "4      95.00           4  "
      ]
     },
     "execution_count": 20,
     "metadata": {},
     "output_type": "execute_result"
    }
   ],
   "source": [
    "df.head()"
   ]
  },
  {
   "cell_type": "code",
   "execution_count": 76,
   "metadata": {},
   "outputs": [],
   "source": [
    "#n=sns.PairGrid(df)\n",
    "#n.map(sns.scatterplot)"
   ]
  },
  {
   "cell_type": "code",
   "execution_count": 21,
   "metadata": {},
   "outputs": [
    {
     "data": {
      "text/html": [
       "<div>\n",
       "<style scoped>\n",
       "    .dataframe tbody tr th:only-of-type {\n",
       "        vertical-align: middle;\n",
       "    }\n",
       "\n",
       "    .dataframe tbody tr th {\n",
       "        vertical-align: top;\n",
       "    }\n",
       "\n",
       "    .dataframe thead th {\n",
       "        text-align: right;\n",
       "    }\n",
       "</style>\n",
       "<table border=\"1\" class=\"dataframe\">\n",
       "  <thead>\n",
       "    <tr style=\"text-align: right;\">\n",
       "      <th></th>\n",
       "      <th>category_ID</th>\n",
       "      <th>cause_ID</th>\n",
       "      <th>current_score</th>\n",
       "      <th>current_rating</th>\n",
       "      <th>accountability_score</th>\n",
       "      <th>accountability_rating</th>\n",
       "      <th>org_assets</th>\n",
       "      <th>org_income</th>\n",
       "      <th>fin_score</th>\n",
       "      <th>fin_rating</th>\n",
       "    </tr>\n",
       "  </thead>\n",
       "  <tbody>\n",
       "    <tr>\n",
       "      <th>0</th>\n",
       "      <td>6</td>\n",
       "      <td>29</td>\n",
       "      <td>85.98</td>\n",
       "      <td>3</td>\n",
       "      <td>82</td>\n",
       "      <td>3</td>\n",
       "      <td>2032739.0</td>\n",
       "      <td>3364323.0</td>\n",
       "      <td>91.70</td>\n",
       "      <td>4</td>\n",
       "    </tr>\n",
       "    <tr>\n",
       "      <th>1</th>\n",
       "      <td>9</td>\n",
       "      <td>26</td>\n",
       "      <td>89.04</td>\n",
       "      <td>3</td>\n",
       "      <td>85</td>\n",
       "      <td>3</td>\n",
       "      <td>2602296.0</td>\n",
       "      <td>1930948.0</td>\n",
       "      <td>96.10</td>\n",
       "      <td>4</td>\n",
       "    </tr>\n",
       "    <tr>\n",
       "      <th>2</th>\n",
       "      <td>2</td>\n",
       "      <td>4</td>\n",
       "      <td>75.03</td>\n",
       "      <td>2</td>\n",
       "      <td>89</td>\n",
       "      <td>3</td>\n",
       "      <td>1162334.0</td>\n",
       "      <td>1597054.0</td>\n",
       "      <td>66.45</td>\n",
       "      <td>1</td>\n",
       "    </tr>\n",
       "    <tr>\n",
       "      <th>3</th>\n",
       "      <td>6</td>\n",
       "      <td>16</td>\n",
       "      <td>95.01</td>\n",
       "      <td>4</td>\n",
       "      <td>93</td>\n",
       "      <td>4</td>\n",
       "      <td>49861768.0</td>\n",
       "      <td>22928887.0</td>\n",
       "      <td>99.11</td>\n",
       "      <td>4</td>\n",
       "    </tr>\n",
       "    <tr>\n",
       "      <th>4</th>\n",
       "      <td>10</td>\n",
       "      <td>22</td>\n",
       "      <td>95.47</td>\n",
       "      <td>4</td>\n",
       "      <td>96</td>\n",
       "      <td>4</td>\n",
       "      <td>25229948.0</td>\n",
       "      <td>12989927.0</td>\n",
       "      <td>95.00</td>\n",
       "      <td>4</td>\n",
       "    </tr>\n",
       "    <tr>\n",
       "      <th>...</th>\n",
       "      <td>...</td>\n",
       "      <td>...</td>\n",
       "      <td>...</td>\n",
       "      <td>...</td>\n",
       "      <td>...</td>\n",
       "      <td>...</td>\n",
       "      <td>...</td>\n",
       "      <td>...</td>\n",
       "      <td>...</td>\n",
       "      <td>...</td>\n",
       "    </tr>\n",
       "    <tr>\n",
       "      <th>10813</th>\n",
       "      <td>3</td>\n",
       "      <td>38</td>\n",
       "      <td>94.69</td>\n",
       "      <td>4</td>\n",
       "      <td>100</td>\n",
       "      <td>4</td>\n",
       "      <td>2910090.0</td>\n",
       "      <td>3209288.0</td>\n",
       "      <td>92.50</td>\n",
       "      <td>4</td>\n",
       "    </tr>\n",
       "    <tr>\n",
       "      <th>10814</th>\n",
       "      <td>9</td>\n",
       "      <td>26</td>\n",
       "      <td>88.29</td>\n",
       "      <td>3</td>\n",
       "      <td>100</td>\n",
       "      <td>4</td>\n",
       "      <td>2022340.0</td>\n",
       "      <td>2920052.0</td>\n",
       "      <td>83.45</td>\n",
       "      <td>3</td>\n",
       "    </tr>\n",
       "    <tr>\n",
       "      <th>10815</th>\n",
       "      <td>2</td>\n",
       "      <td>4</td>\n",
       "      <td>86.72</td>\n",
       "      <td>3</td>\n",
       "      <td>85</td>\n",
       "      <td>3</td>\n",
       "      <td>69024438.0</td>\n",
       "      <td>27427101.0</td>\n",
       "      <td>88.72</td>\n",
       "      <td>3</td>\n",
       "    </tr>\n",
       "    <tr>\n",
       "      <th>10816</th>\n",
       "      <td>6</td>\n",
       "      <td>44</td>\n",
       "      <td>83.56</td>\n",
       "      <td>3</td>\n",
       "      <td>96</td>\n",
       "      <td>4</td>\n",
       "      <td>12223443.0</td>\n",
       "      <td>3951340.0</td>\n",
       "      <td>77.11</td>\n",
       "      <td>2</td>\n",
       "    </tr>\n",
       "    <tr>\n",
       "      <th>10817</th>\n",
       "      <td>6</td>\n",
       "      <td>16</td>\n",
       "      <td>88.84</td>\n",
       "      <td>3</td>\n",
       "      <td>93</td>\n",
       "      <td>4</td>\n",
       "      <td>5382840.0</td>\n",
       "      <td>2590905.0</td>\n",
       "      <td>85.87</td>\n",
       "      <td>3</td>\n",
       "    </tr>\n",
       "  </tbody>\n",
       "</table>\n",
       "<p>10818 rows × 10 columns</p>\n",
       "</div>"
      ],
      "text/plain": [
       "       category_ID  cause_ID  current_score  current_rating  \\\n",
       "0                6        29          85.98               3   \n",
       "1                9        26          89.04               3   \n",
       "2                2         4          75.03               2   \n",
       "3                6        16          95.01               4   \n",
       "4               10        22          95.47               4   \n",
       "...            ...       ...            ...             ...   \n",
       "10813            3        38          94.69               4   \n",
       "10814            9        26          88.29               3   \n",
       "10815            2         4          86.72               3   \n",
       "10816            6        44          83.56               3   \n",
       "10817            6        16          88.84               3   \n",
       "\n",
       "       accountability_score  accountability_rating  org_assets  org_income  \\\n",
       "0                        82                      3   2032739.0   3364323.0   \n",
       "1                        85                      3   2602296.0   1930948.0   \n",
       "2                        89                      3   1162334.0   1597054.0   \n",
       "3                        93                      4  49861768.0  22928887.0   \n",
       "4                        96                      4  25229948.0  12989927.0   \n",
       "...                     ...                    ...         ...         ...   \n",
       "10813                   100                      4   2910090.0   3209288.0   \n",
       "10814                   100                      4   2022340.0   2920052.0   \n",
       "10815                    85                      3  69024438.0  27427101.0   \n",
       "10816                    96                      4  12223443.0   3951340.0   \n",
       "10817                    93                      4   5382840.0   2590905.0   \n",
       "\n",
       "       fin_score  fin_rating  \n",
       "0          91.70           4  \n",
       "1          96.10           4  \n",
       "2          66.45           1  \n",
       "3          99.11           4  \n",
       "4          95.00           4  \n",
       "...          ...         ...  \n",
       "10813      92.50           4  \n",
       "10814      83.45           3  \n",
       "10815      88.72           3  \n",
       "10816      77.11           2  \n",
       "10817      85.87           3  \n",
       "\n",
       "[10818 rows x 10 columns]"
      ]
     },
     "execution_count": 21,
     "metadata": {},
     "output_type": "execute_result"
    }
   ],
   "source": [
    "hm_df = df.drop(columns= ['tagline','mission', 'name', 'category_name', 'cause_name', 'city', 'state', 'npo_affilitation', 'foundation_status'])\n",
    "hm_df"
   ]
  },
  {
   "cell_type": "code",
   "execution_count": 22,
   "metadata": {},
   "outputs": [
    {
     "data": {
      "text/plain": [
       "<AxesSubplot:>"
      ]
     },
     "execution_count": 22,
     "metadata": {},
     "output_type": "execute_result"
    },
    {
     "data": {
      "image/png": "[encoded data removed]",
      "text/plain": [
       "<Figure size 432x288 with 2 Axes>"
      ]
     },
     "metadata": {
      "needs_background": "light"
     },
     "output_type": "display_data"
    }
   ],
   "source": [
    "corr = df.corr()\n",
    "mask = np.triu(np.ones_like(corr, dtype = bool))\n",
    "#f, ax = plt.subplots(figsize=11,9)\n",
    "cmap = sns.diverging_palette(230, 20, as_cmap = True)\n",
    "sns.heatmap(corr, mask = mask, cmap = 'YlGnBu', \n",
    "            center = 0, square = True, \n",
    "            linewidths =.5, cbar_kws = {'shrink': .5})"
   ]
  },
  {
   "cell_type": "markdown",
   "metadata": {},
   "source": [
    "From this we see that \n",
    "\n",
    "category_ID has a strong correlation with cause_ID\n",
    "\n",
    "current_score has strong correlations with fin_rating, fin_score, accountability_rating, accountability_score\n",
    "\n"
   ]
  },
  {
   "cell_type": "markdown",
   "metadata": {},
   "source": [
    "# Feature Engineering"
   ]
  },
  {
   "cell_type": "code",
   "execution_count": 75,
   "metadata": {},
   "outputs": [
    {
     "data": {
      "text/html": [
       "<div>\n",
       "<style scoped>\n",
       "    .dataframe tbody tr th:only-of-type {\n",
       "        vertical-align: middle;\n",
       "    }\n",
       "\n",
       "    .dataframe tbody tr th {\n",
       "        vertical-align: top;\n",
       "    }\n",
       "\n",
       "    .dataframe thead th {\n",
       "        text-align: right;\n",
       "    }\n",
       "</style>\n",
       "<table border=\"1\" class=\"dataframe\">\n",
       "  <thead>\n",
       "    <tr style=\"text-align: right;\">\n",
       "      <th></th>\n",
       "      <th>mission</th>\n",
       "      <th>tagline</th>\n",
       "      <th>name</th>\n",
       "      <th>category_name</th>\n",
       "      <th>category_ID</th>\n",
       "      <th>cause_name</th>\n",
       "      <th>cause_ID</th>\n",
       "      <th>city</th>\n",
       "      <th>state</th>\n",
       "      <th>current_score</th>\n",
       "      <th>current_rating</th>\n",
       "      <th>accountability_score</th>\n",
       "      <th>accountability_rating</th>\n",
       "      <th>npo_affilitation</th>\n",
       "      <th>foundation_status</th>\n",
       "      <th>org_assets</th>\n",
       "      <th>org_income</th>\n",
       "      <th>fin_score</th>\n",
       "      <th>fin_rating</th>\n",
       "    </tr>\n",
       "  </thead>\n",
       "  <tbody>\n",
       "    <tr>\n",
       "      <th>0</th>\n",
       "      <td>Impact Alabama was founded in 2004 as the stat...</td>\n",
       "      <td>Engaging a Generation for Change.</td>\n",
       "      <td>Impact America</td>\n",
       "      <td>Human Services</td>\n",
       "      <td>6</td>\n",
       "      <td>Social Services</td>\n",
       "      <td>29</td>\n",
       "      <td>Birmingham</td>\n",
       "      <td>AL</td>\n",
       "      <td>85.98</td>\n",
       "      <td>3</td>\n",
       "      <td>82</td>\n",
       "      <td>3</td>\n",
       "      <td>Independent - the organization is an independe...</td>\n",
       "      <td>Organization which receives a substantial part...</td>\n",
       "      <td>2032739.0</td>\n",
       "      <td>3364323.0</td>\n",
       "      <td>91.70</td>\n",
       "      <td>4</td>\n",
       "    </tr>\n",
       "    <tr>\n",
       "      <th>1</th>\n",
       "      <td>Four Corners Ministries exists to communicate ...</td>\n",
       "      <td>The Gospel Sent</td>\n",
       "      <td>Four Corners Ministries</td>\n",
       "      <td>Religion</td>\n",
       "      <td>9</td>\n",
       "      <td>Religious Activities</td>\n",
       "      <td>26</td>\n",
       "      <td>Opelika</td>\n",
       "      <td>AL</td>\n",
       "      <td>89.04</td>\n",
       "      <td>3</td>\n",
       "      <td>85</td>\n",
       "      <td>3</td>\n",
       "      <td>Independent - the organization is an independe...</td>\n",
       "      <td>Organization that normally receives no more th...</td>\n",
       "      <td>2602296.0</td>\n",
       "      <td>1930948.0</td>\n",
       "      <td>96.10</td>\n",
       "      <td>4</td>\n",
       "    </tr>\n",
       "    <tr>\n",
       "      <th>2</th>\n",
       "      <td>The Mobile Symphony Orchestra enhances lives b...</td>\n",
       "      <td>Working to create an environment that allows f...</td>\n",
       "      <td>Mobile Symphony Orchestra</td>\n",
       "      <td>Arts, Culture, Humanities</td>\n",
       "      <td>2</td>\n",
       "      <td>Performing Arts</td>\n",
       "      <td>4</td>\n",
       "      <td>Mobile</td>\n",
       "      <td>AL</td>\n",
       "      <td>75.03</td>\n",
       "      <td>2</td>\n",
       "      <td>89</td>\n",
       "      <td>3</td>\n",
       "      <td>Independent - the organization is an independe...</td>\n",
       "      <td>Organization that normally receives no more th...</td>\n",
       "      <td>1162334.0</td>\n",
       "      <td>1597054.0</td>\n",
       "      <td>66.45</td>\n",
       "      <td>1</td>\n",
       "    </tr>\n",
       "    <tr>\n",
       "      <th>3</th>\n",
       "      <td>Big Oak Ranch is a Christian home for children...</td>\n",
       "      <td>A Christian home for children needing a chance</td>\n",
       "      <td>Big Oak Ranch</td>\n",
       "      <td>Human Services</td>\n",
       "      <td>6</td>\n",
       "      <td>Youth Development, Shelter, and Crisis Services</td>\n",
       "      <td>16</td>\n",
       "      <td>Springville</td>\n",
       "      <td>AL</td>\n",
       "      <td>95.01</td>\n",
       "      <td>4</td>\n",
       "      <td>93</td>\n",
       "      <td>4</td>\n",
       "      <td>Independent - the organization is an independe...</td>\n",
       "      <td>Organization which receives a substantial part...</td>\n",
       "      <td>49861768.0</td>\n",
       "      <td>22928887.0</td>\n",
       "      <td>99.11</td>\n",
       "      <td>4</td>\n",
       "    </tr>\n",
       "    <tr>\n",
       "      <th>4</th>\n",
       "      <td>The Community Foundation of Greater Huntsville...</td>\n",
       "      <td>A Smart Place to Give</td>\n",
       "      <td>Community Foundation of Greater Huntsville</td>\n",
       "      <td>Community Development</td>\n",
       "      <td>10</td>\n",
       "      <td>Community Foundations</td>\n",
       "      <td>22</td>\n",
       "      <td>Huntsville</td>\n",
       "      <td>AL</td>\n",
       "      <td>95.47</td>\n",
       "      <td>4</td>\n",
       "      <td>96</td>\n",
       "      <td>4</td>\n",
       "      <td>Independent - the organization is an independe...</td>\n",
       "      <td>Organization which receives a substantial part...</td>\n",
       "      <td>25229948.0</td>\n",
       "      <td>12989927.0</td>\n",
       "      <td>95.00</td>\n",
       "      <td>4</td>\n",
       "    </tr>\n",
       "  </tbody>\n",
       "</table>\n",
       "</div>"
      ],
      "text/plain": [
       "                                             mission  \\\n",
       "0  Impact Alabama was founded in 2004 as the stat...   \n",
       "1  Four Corners Ministries exists to communicate ...   \n",
       "2  The Mobile Symphony Orchestra enhances lives b...   \n",
       "3  Big Oak Ranch is a Christian home for children...   \n",
       "4  The Community Foundation of Greater Huntsville...   \n",
       "\n",
       "                                             tagline  \\\n",
       "0                  Engaging a Generation for Change.   \n",
       "1                                    The Gospel Sent   \n",
       "2  Working to create an environment that allows f...   \n",
       "3     A Christian home for children needing a chance   \n",
       "4                              A Smart Place to Give   \n",
       "\n",
       "                                         name              category_name  \\\n",
       "0                              Impact America             Human Services   \n",
       "1                     Four Corners Ministries                   Religion   \n",
       "2                   Mobile Symphony Orchestra  Arts, Culture, Humanities   \n",
       "3                               Big Oak Ranch             Human Services   \n",
       "4  Community Foundation of Greater Huntsville      Community Development   \n",
       "\n",
       "   category_ID                                       cause_name  cause_ID  \\\n",
       "0            6                                  Social Services        29   \n",
       "1            9                             Religious Activities        26   \n",
       "2            2                                  Performing Arts         4   \n",
       "3            6  Youth Development, Shelter, and Crisis Services        16   \n",
       "4           10                            Community Foundations        22   \n",
       "\n",
       "          city state  current_score  current_rating  accountability_score  \\\n",
       "0   Birmingham    AL          85.98               3                    82   \n",
       "1      Opelika    AL          89.04               3                    85   \n",
       "2       Mobile    AL          75.03               2                    89   \n",
       "3  Springville    AL          95.01               4                    93   \n",
       "4   Huntsville    AL          95.47               4                    96   \n",
       "\n",
       "   accountability_rating                                   npo_affilitation  \\\n",
       "0                      3  Independent - the organization is an independe...   \n",
       "1                      3  Independent - the organization is an independe...   \n",
       "2                      3  Independent - the organization is an independe...   \n",
       "3                      4  Independent - the organization is an independe...   \n",
       "4                      4  Independent - the organization is an independe...   \n",
       "\n",
       "                                   foundation_status  org_assets  org_income  \\\n",
       "0  Organization which receives a substantial part...   2032739.0   3364323.0   \n",
       "1  Organization that normally receives no more th...   2602296.0   1930948.0   \n",
       "2  Organization that normally receives no more th...   1162334.0   1597054.0   \n",
       "3  Organization which receives a substantial part...  49861768.0  22928887.0   \n",
       "4  Organization which receives a substantial part...  25229948.0  12989927.0   \n",
       "\n",
       "   fin_score  fin_rating  \n",
       "0      91.70           4  \n",
       "1      96.10           4  \n",
       "2      66.45           1  \n",
       "3      99.11           4  \n",
       "4      95.00           4  "
      ]
     },
     "execution_count": 75,
     "metadata": {},
     "output_type": "execute_result"
    }
   ],
   "source": [
    "df.head()"
   ]
  },
  {
   "cell_type": "code",
   "execution_count": 24,
   "metadata": {},
   "outputs": [],
   "source": [
    "df['Southeast'] = (df['state'] == 'MD') & (df['state'] =='DC') & (df['state'] =='DE') & (df['state'] =='WV') & (df['state'] =='VA') & (df['state'] =='KY') & (df['state'] =='NC') & (df['state'] =='TN') & (df['state'] =='SC') & (df['state'] =='GA') & (df['state'] =='FL') & (df['state'] =='AL') & (df['state'] =='MS') & (df['state'] =='AR') & (df['state'] =='LA')\n",
    "#df['Southeast'] = df['Southeast'].replace([True, False] , [1,0]) \n",
    "                                          \n",
    "df['Northeast'] = (df['state'] == 'ME') & (df['state'] =='NH') & (df['state'] =='MA') & (df['state'] =='VT') & (df['state'] =='RI') & (df['state'] =='CT') & (df['state'] =='NY') & (df['state'] =='PA') & (df['state'] == 'NJ')\n",
    "#df['Northeast'] = df['Northeast'].replace([True, False] , [1,0])\n",
    "\n",
    "df['Midwest'] = (df['state'] == 'OH') & (df['state'] =='MI') & (df['state'] =='IN') & (df['state'] =='IL') & (df['state'] =='WI') & (df['state'] =='MN') & (df['state'] =='IA') & (df['state'] =='MO') & (df['state'] =='ND') & (df['state'] =='SD') & (df['state'] =='NE') & (df['state'] =='KS')\n",
    "#df['Midwest'] = df['Midwest'].replace([True, False], [1,0]) \n",
    "\n",
    "\n",
    "df['Southwest'] = (df['state'] == 'AZ') & (df['state'] == 'NM') & (df['state'] =='TX') & (df['state'] =='OK')\n",
    "#df['Southwest'] = df['Southwest'].replace([True, False], [1,0])\n",
    "\n",
    "\n",
    "df['West'] = (df['state'] ==\"CA\") & (df['state'] ==\"HI\") &  (df['state'] == \"AK\") & (df['state'] == \"OR\") & (df['state'] == \"WA\") & (df['state'] ==\"ID\") & (df['state'] ==\"NV\") & (df['state'] ==\"UT\") & (df['state'] ==\"CO\") & (df['state'] ==\"WY\") & (df['state'] ==\"MT\")\n",
    "#df['West'] = df['West'].replace([True, False], [1,0])"
   ]
  },
  {
   "cell_type": "code",
   "execution_count": 29,
   "metadata": {},
   "outputs": [
    {
     "ename": "ValueError",
     "evalue": "The truth value of a Series is ambiguous. Use a.empty, a.bool(), a.item(), a.any() or a.all().",
     "output_type": "error",
     "traceback": [
      "\u001b[0;31m---------------------------------------------------------------------------\u001b[0m",
      "\u001b[0;31mValueError\u001b[0m                                Traceback (most recent call last)",
      "\u001b[0;32m<ipython-input-29-101460b4a6bf>\u001b[0m in \u001b[0;36m<module>\u001b[0;34m()\u001b[0m\n\u001b[1;32m      4\u001b[0m \u001b[0;34m\u001b[0m\u001b[0m\n\u001b[1;32m      5\u001b[0m \u001b[0;34m\u001b[0m\u001b[0m\n\u001b[0;32m----> 6\u001b[0;31m \u001b[0;32mif\u001b[0m \u001b[0mdf\u001b[0m\u001b[0;34m[\u001b[0m\u001b[0;34m'state'\u001b[0m\u001b[0;34m]\u001b[0m \u001b[0;34m==\u001b[0m \u001b[0;34m'CA'\u001b[0m\u001b[0;34m:\u001b[0m\u001b[0;34m\u001b[0m\u001b[0;34m\u001b[0m\u001b[0m\n\u001b[0m\u001b[1;32m      7\u001b[0m     \u001b[0mdf\u001b[0m\u001b[0;34m[\u001b[0m\u001b[0;34m'West'\u001b[0m\u001b[0;34m]\u001b[0m\u001b[0;34m.\u001b[0m\u001b[0mappend\u001b[0m\u001b[0;34m(\u001b[0m\u001b[0;36m1\u001b[0m\u001b[0;34m)\u001b[0m\u001b[0;34m\u001b[0m\u001b[0;34m\u001b[0m\u001b[0m\n\u001b[1;32m      8\u001b[0m \u001b[0;31m# else df['state'] == 'HI':\u001b[0m\u001b[0;34m\u001b[0m\u001b[0;34m\u001b[0m\u001b[0;34m\u001b[0m\u001b[0m\n",
      "\u001b[0;32m/Users/aratliff/anaconda3/envs/learn-env/lib/python3.6/site-packages/pandas/core/generic.py\u001b[0m in \u001b[0;36m__nonzero__\u001b[0;34m(self)\u001b[0m\n\u001b[1;32m   1553\u001b[0m             \u001b[0;34m\"The truth value of a {0} is ambiguous. \"\u001b[0m\u001b[0;34m\u001b[0m\u001b[0;34m\u001b[0m\u001b[0m\n\u001b[1;32m   1554\u001b[0m             \"Use a.empty, a.bool(), a.item(), a.any() or a.all().\".format(\n\u001b[0;32m-> 1555\u001b[0;31m                 \u001b[0mself\u001b[0m\u001b[0;34m.\u001b[0m\u001b[0m__class__\u001b[0m\u001b[0;34m.\u001b[0m\u001b[0m__name__\u001b[0m\u001b[0;34m\u001b[0m\u001b[0;34m\u001b[0m\u001b[0m\n\u001b[0m\u001b[1;32m   1556\u001b[0m             )\n\u001b[1;32m   1557\u001b[0m         )\n",
      "\u001b[0;31mValueError\u001b[0m: The truth value of a Series is ambiguous. Use a.empty, a.bool(), a.item(), a.any() or a.all()."
     ]
    }
   ],
   "source": [
    "southeast, northeast, midwest, southwest, west = [], [], [] , [], []\n",
    "\n",
    "\n",
    "        \n",
    "\n",
    "if df['state'] == 'CA':\n",
    "    df['West'].append(1)\n",
    "# else df['state'] == 'HI':\n",
    "#     df['West'].append(True)\n",
    "        "
   ]
  },
  {
   "cell_type": "markdown",
   "metadata": {},
   "source": [
    "# Saving DF as a CSV File"
   ]
  },
  {
   "cell_type": "markdown",
   "metadata": {},
   "source": [
    "# Base Model"
   ]
  },
  {
   "cell_type": "code",
   "execution_count": null,
   "metadata": {},
   "outputs": [],
   "source": []
  }
 ],
 "metadata": {
  "kernelspec": {
   "display_name": "Python 3",
   "language": "python",
   "name": "python3"
  },
  "language_info": {
   "codemirror_mode": {
    "name": "ipython",
    "version": 3
   },
   "file_extension": ".py",
   "mimetype": "text/x-python",
   "name": "python",
   "nbconvert_exporter": "python",
   "pygments_lexer": "ipython3",
   "version": "3.6.12"
  }
 },
 "nbformat": 4,
 "nbformat_minor": 4
}
