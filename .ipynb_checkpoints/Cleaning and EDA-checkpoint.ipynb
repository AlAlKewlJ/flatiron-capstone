{
 "cells": [
  {
   "cell_type": "code",
   "execution_count": 1,
   "metadata": {},
   "outputs": [],
   "source": [
    "import pandas as pd \n",
    "pd.set_option('display.max_columns', None)\n",
    "pd.set_option('display.max_rows', None)\n",
    "import numpy as np \n",
    "\n",
    "import matplotlib.pyplot as plt\n",
    "%matplotlib inline\n",
    "import seaborn as sns\n"
   ]
  },
  {
   "cell_type": "code",
   "execution_count": 2,
   "metadata": {},
   "outputs": [],
   "source": [
    "df = pd.read_csv('final_df.csv')"
   ]
  },
  {
   "cell_type": "markdown",
   "metadata": {},
   "source": [
    "# Data Cleaning and EDA"
   ]
  },
  {
   "cell_type": "markdown",
   "metadata": {},
   "source": [
    "Labeling the columns and getting rid of the extra index columns that remained after concatination of dataframes "
   ]
  },
  {
   "cell_type": "code",
   "execution_count": 3,
   "metadata": {},
   "outputs": [],
   "source": [
    "df = df.rename(columns={'0': 'mission', '1': 'tagline', '2': 'name', '3': 'category_name', '4': 'category_ID', '5': 'cause_name', '6': 'cause_ID', '7': 'city', '8': 'state', '9': 'zipcode', \n",
    "                   '10': 'current_score', '11': 'current_rating', '12': 'advisories', '13': 'accountability_score', '14': 'accountability_rating', '15': 'irs_org_type', '16': 'irs_classification', \n",
    "                   '17': 'npo_affiliation', '18': 'foundation_status', '19': 'irs_org_classification', '20': 'tax_deductibility', '21': 'npo_status', '22': 'org_assets', '23': 'org_income', \n",
    "                   '24': 'fin_score', '25': 'fin_rating'})"
   ]
  },
  {
   "cell_type": "code",
   "execution_count": 4,
   "metadata": {},
   "outputs": [],
   "source": [
    "#Null values are tagline(23) advisories(10794), irs_org_type(1906), irs_classification(1906), tax_deductability(9), npo_status(9), org_assets(117), org_income(117)"
   ]
  },
  {
   "cell_type": "code",
   "execution_count": 5,
   "metadata": {},
   "outputs": [
    {
     "data": {
      "text/plain": [
       "501(c)(3)    10809\n",
       "Name: npo_status, dtype: int64"
      ]
     },
     "execution_count": 5,
     "metadata": {},
     "output_type": "execute_result"
    }
   ],
   "source": [
    "#the majority of the organizations are 501(c)(3). Because of that we can drop this column\n",
    "df['npo_status'].value_counts()"
   ]
  },
  {
   "cell_type": "code",
   "execution_count": 6,
   "metadata": {},
   "outputs": [
    {
     "data": {
      "text/plain": [
       "Contributions are deductible        10802\n",
       "Deductibility not specified             6\n",
       "Contributions are not deductible        1\n",
       "Name: tax_deductibility, dtype: int64"
      ]
     },
     "execution_count": 6,
     "metadata": {},
     "output_type": "execute_result"
    }
   ],
   "source": [
    "#almost all of the organiations in the dataset are also tax deductible \n",
    "df['tax_deductibility'].value_counts()"
   ]
  },
  {
   "cell_type": "code",
   "execution_count": 7,
   "metadata": {},
   "outputs": [
    {
     "name": "stdout",
     "output_type": "stream",
     "text": [
      "The mean assets for nonprofit organizations in this dataset is 39589776.82702551\n",
      "The median income for nonprofit organizations in this dataset is 7078600.0\n"
     ]
    }
   ],
   "source": [
    "mean_org_assets = df['org_assets'].mean()\n",
    "median_org_assets = df['org_assets'].median()\n",
    "\n",
    "print('The mean assets for nonprofit organizations in this dataset is', + mean_org_assets)\n",
    "print('The median income for nonprofit organizations in this dataset is', + median_org_assets)"
   ]
  },
  {
   "cell_type": "code",
   "execution_count": 8,
   "metadata": {},
   "outputs": [
    {
     "name": "stdout",
     "output_type": "stream",
     "text": [
      "The mean assets for nonprofit organizations in this dataset is 24284774.345201384\n",
      "The median income for nonprofit organizations in this dataset is 4861565.0\n"
     ]
    }
   ],
   "source": [
    "mean_income = df['org_income'].mean()\n",
    "median_income = df['org_income'].median()\n",
    "\n",
    "print('The mean assets for nonprofit organizations in this dataset is', + mean_income)\n",
    "print('The median income for nonprofit organizations in this dataset is', + median_income)"
   ]
  },
  {
   "cell_type": "markdown",
   "metadata": {},
   "source": [
    "### Current Rating Distribution"
   ]
  },
  {
   "cell_type": "code",
   "execution_count": 9,
   "metadata": {},
   "outputs": [
    {
     "data": {
      "text/plain": [
       "3    4955\n",
       "4    4304\n",
       "2    1238\n",
       "1     272\n",
       "0      49\n",
       "Name: current_rating, dtype: int64"
      ]
     },
     "execution_count": 9,
     "metadata": {},
     "output_type": "execute_result"
    }
   ],
   "source": [
    "#View current ratings \n",
    "df['current_rating'].value_counts()"
   ]
  },
  {
   "cell_type": "code",
   "execution_count": 10,
   "metadata": {},
   "outputs": [
    {
     "data": {
      "text/plain": [
       "<seaborn.axisgrid.FacetGrid at 0x7fa25aea6f98>"
      ]
     },
     "execution_count": 10,
     "metadata": {},
     "output_type": "execute_result"
    },
    {
     "data": {
      "image/png": "[encoded data removed]",
      "text/plain": [
       "<Figure size 360x360 with 1 Axes>"
      ]
     },
     "metadata": {
      "needs_background": "light"
     },
     "output_type": "display_data"
    }
   ],
   "source": [
    "sns.catplot(x=df['current_rating'], kind='count', palette=None, data= df)"
   ]
  },
  {
   "cell_type": "markdown",
   "metadata": {},
   "source": [
    "### Accountability Rating Distribution"
   ]
  },
  {
   "cell_type": "code",
   "execution_count": 11,
   "metadata": {},
   "outputs": [
    {
     "data": {
      "text/plain": [
       "4    6585\n",
       "3    3183\n",
       "2     632\n",
       "1     322\n",
       "0      96\n",
       "Name: accountability_rating, dtype: int64"
      ]
     },
     "execution_count": 11,
     "metadata": {},
     "output_type": "execute_result"
    }
   ],
   "source": [
    "#Accountability_rating value counts\n",
    "df['accountability_rating'].value_counts()"
   ]
  },
  {
   "cell_type": "code",
   "execution_count": 12,
   "metadata": {},
   "outputs": [
    {
     "data": {
      "text/plain": [
       "<seaborn.axisgrid.FacetGrid at 0x7fa252413cf8>"
      ]
     },
     "execution_count": 12,
     "metadata": {},
     "output_type": "execute_result"
    },
    {
     "data": {
      "image/png": "[encoded data removed]",
      "text/plain": [
       "<Figure size 360x360 with 1 Axes>"
      ]
     },
     "metadata": {
      "needs_background": "light"
     },
     "output_type": "display_data"
    }
   ],
   "source": [
    "sns.catplot(x=df['accountability_rating'], kind='count', palette=None, data= df)"
   ]
  },
  {
   "cell_type": "markdown",
   "metadata": {},
   "source": [
    "### Financial Rating Distribution"
   ]
  },
  {
   "cell_type": "code",
   "execution_count": 13,
   "metadata": {},
   "outputs": [
    {
     "data": {
      "text/plain": [
       "3    4509\n",
       "4    3883\n",
       "2    1890\n",
       "1     479\n",
       "0      57\n",
       "Name: fin_rating, dtype: int64"
      ]
     },
     "execution_count": 13,
     "metadata": {},
     "output_type": "execute_result"
    }
   ],
   "source": [
    "#fin_rating\n",
    "df['fin_rating'].value_counts()"
   ]
  },
  {
   "cell_type": "code",
   "execution_count": 14,
   "metadata": {},
   "outputs": [
    {
     "data": {
      "text/plain": [
       "<seaborn.axisgrid.FacetGrid at 0x7fa2576b7ef0>"
      ]
     },
     "execution_count": 14,
     "metadata": {},
     "output_type": "execute_result"
    },
    {
     "data": {
      "image/png": "[encoded data removed]",
      "text/plain": [
       "<Figure size 360x360 with 1 Axes>"
      ]
     },
     "metadata": {
      "needs_background": "light"
     },
     "output_type": "display_data"
    }
   ],
   "source": [
    "sns.catplot(x=df['fin_rating'], kind='count', palette=None, data= df)"
   ]
  },
  {
   "cell_type": "code",
   "execution_count": 15,
   "metadata": {},
   "outputs": [],
   "source": [
    "# #Dropping unhelpful values  advisories because there are 10794 missing values\n",
    "df = df.drop(columns=['index', 'Unnamed: 0','advisories', 'npo_status', 'tax_deductibility', \n",
    "                    'irs_org_type', 'irs_classification', 'irs_org_type', 'irs_org_classification', \n",
    "                    'mission', 'tagline'])\n"
   ]
  },
  {
   "cell_type": "code",
   "execution_count": 16,
   "metadata": {},
   "outputs": [],
   "source": [
    "# hm_df = df.drop(columns= [ 'name', 'category_name', 'cause_name', 'city', 'state', 'npo_affilitation', 'foundation_status'])\n",
    "# hm_df"
   ]
  },
  {
   "cell_type": "code",
   "execution_count": 17,
   "metadata": {},
   "outputs": [],
   "source": [
    "# corr = df.corr()\n",
    "# mask = np.triu(np.ones_like(corr, dtype = bool))\n",
    "# #f, ax = plt.subplots(figsize=11,9)\n",
    "# cmap = sns.diverging_palette(230, 20, as_cmap = True)\n",
    "# sns.heatmap(corr, mask = mask, cmap = 'YlGnBu', \n",
    "#             center = 0, square = True, \n",
    "#             linewidths =.5, cbar_kws = {'shrink': .5})"
   ]
  },
  {
   "cell_type": "markdown",
   "metadata": {},
   "source": [
    "From this we see that \n",
    "\n",
    "category_ID has a strong correlation with cause_ID\n",
    "\n",
    "current_score has strong correlations with fin_rating, fin_score, accountability_rating, accountability_score\n",
    "\n"
   ]
  },
  {
   "cell_type": "markdown",
   "metadata": {},
   "source": [
    "# Feature Engineering"
   ]
  },
  {
   "cell_type": "markdown",
   "metadata": {},
   "source": [
    "Grouped states into regions using National Geographic"
   ]
  },
  {
   "cell_type": "code",
   "execution_count": 18,
   "metadata": {},
   "outputs": [],
   "source": [
    "df['Southeast'] = (df['state'] == 'MD') | (df['state'] =='DC') | (df['state'] =='DE') | (df['state'] =='WV') | (df['state'] =='VA') | (df['state'] =='KY') | (df['state'] =='NC') | (df['state'] =='TN') | (df['state'] =='SC') | (df['state'] =='GA') | (df['state'] =='FL') | (df['state'] =='AL') | (df['state'] =='MS') | (df['state'] =='AR') | (df['state'] =='LA')\n",
    "df['Southeast'] = df['Southeast'].replace([True, False] , [1,0]) \n",
    "                                          \n",
    "df['Northeast'] = (df['state'] == 'ME') | (df['state'] =='NH') | (df['state'] =='MA') | (df['state'] =='VT') | (df['state'] =='RI') | (df['state'] =='CT') | (df['state'] =='NY') | (df['state'] =='PA') | (df['state'] == 'NJ')\n",
    "df['Northeast'] = df['Northeast'].replace([True, False] , [1,0])\n",
    "\n",
    "df['Midwest'] = (df['state'] == 'OH') | (df['state'] =='MI') | (df['state'] =='IN') | (df['state'] =='IL') | (df['state'] =='WI') | (df['state'] =='MN') | (df['state'] =='IA') | (df['state'] =='MO') | (df['state'] =='ND') | (df['state'] =='SD') | (df['state'] =='NE') | (df['state'] =='KS')\n",
    "df['Midwest'] = df['Midwest'].replace([True, False], [1,0]) \n",
    "\n",
    "\n",
    "df['Southwest'] = (df['state'] == 'AZ') | (df['state'] == 'NM') | (df['state'] =='TX') | (df['state'] =='OK')\n",
    "df['Southwest'] = df['Southwest'].replace([True, False], [1,0])\n",
    "\n",
    "\n",
    "df['West'] = (df['state'] ==\"CA\") | (df['state'] ==\"HI\") |  (df['state'] == \"AK\") | (df['state'] == \"OR\") | (df['state'] == \"WA\") | (df['state'] ==\"ID\") | (df['state'] ==\"NV\") | (df['state'] ==\"UT\") | (df['state'] ==\"CO\") | (df['state'] ==\"WY\") | (df['state'] ==\"MT\")\n",
    "df['West'] = df['West'].replace([True, False], [1,0])"
   ]
  },
  {
   "cell_type": "markdown",
   "metadata": {},
   "source": [
    "## Creating Dummy Variables"
   ]
  },
  {
   "cell_type": "code",
   "execution_count": 37,
   "metadata": {},
   "outputs": [
    {
     "name": "stderr",
     "output_type": "stream",
     "text": [
      "/Users/aratliff/anaconda3/envs/learn-env/lib/python3.6/site-packages/ipykernel_launcher.py:9: FutureWarning: Sorting because non-concatenation axis is not aligned. A future version\n",
      "of pandas will change to not sort by default.\n",
      "\n",
      "To accept the future behavior, pass 'sort=False'.\n",
      "\n",
      "To retain the current behavior and silence the warning, pass 'sort=True'.\n",
      "\n",
      "  if __name__ == '__main__':\n",
      "/Users/aratliff/anaconda3/envs/learn-env/lib/python3.6/site-packages/ipykernel_launcher.py:13: FutureWarning: Sorting because non-concatenation axis is not aligned. A future version\n",
      "of pandas will change to not sort by default.\n",
      "\n",
      "To accept the future behavior, pass 'sort=False'.\n",
      "\n",
      "To retain the current behavior and silence the warning, pass 'sort=True'.\n",
      "\n",
      "  del sys.path[0]\n",
      "/Users/aratliff/anaconda3/envs/learn-env/lib/python3.6/site-packages/ipykernel_launcher.py:17: FutureWarning: Sorting because non-concatenation axis is not aligned. A future version\n",
      "of pandas will change to not sort by default.\n",
      "\n",
      "To accept the future behavior, pass 'sort=False'.\n",
      "\n",
      "To retain the current behavior and silence the warning, pass 'sort=True'.\n",
      "\n",
      "/Users/aratliff/anaconda3/envs/learn-env/lib/python3.6/site-packages/ipykernel_launcher.py:21: FutureWarning: Sorting because non-concatenation axis is not aligned. A future version\n",
      "of pandas will change to not sort by default.\n",
      "\n",
      "To accept the future behavior, pass 'sort=False'.\n",
      "\n",
      "To retain the current behavior and silence the warning, pass 'sort=True'.\n",
      "\n",
      "/Users/aratliff/anaconda3/envs/learn-env/lib/python3.6/site-packages/ipykernel_launcher.py:26: FutureWarning: Sorting because non-concatenation axis is not aligned. A future version\n",
      "of pandas will change to not sort by default.\n",
      "\n",
      "To accept the future behavior, pass 'sort=False'.\n",
      "\n",
      "To retain the current behavior and silence the warning, pass 'sort=True'.\n",
      "\n",
      "/Users/aratliff/anaconda3/envs/learn-env/lib/python3.6/site-packages/ipykernel_launcher.py:30: FutureWarning: Sorting because non-concatenation axis is not aligned. A future version\n",
      "of pandas will change to not sort by default.\n",
      "\n",
      "To accept the future behavior, pass 'sort=False'.\n",
      "\n",
      "To retain the current behavior and silence the warning, pass 'sort=True'.\n",
      "\n",
      "/Users/aratliff/anaconda3/envs/learn-env/lib/python3.6/site-packages/ipykernel_launcher.py:35: FutureWarning: Sorting because non-concatenation axis is not aligned. A future version\n",
      "of pandas will change to not sort by default.\n",
      "\n",
      "To accept the future behavior, pass 'sort=False'.\n",
      "\n",
      "To retain the current behavior and silence the warning, pass 'sort=True'.\n",
      "\n"
     ]
    }
   ],
   "source": [
    "#Creating dummy variables\n",
    "df_foundation_status = pd.get_dummies(df['foundation_status'])\n",
    "df_category_name = pd.get_dummies(df['category_name'])\n",
    "df_cause_name = pd.get_dummies(df['cause_name'])\n",
    "df_npo_affiliation = pd.get_dummies(df['npo_affiliation'])\n",
    "\n",
    "\n",
    "#Concat dummy variables dataframes with original dataframe, dropping duplicates and deleting the index column\n",
    "df_foundation_status = pd.concat([df, df_foundation_status])\n",
    "df_foundation_status = df_foundation_status.drop_duplicates().reset_index()\n",
    "df_foundation_status = df_foundation_status.drop(columns = 'index')\n",
    "\n",
    "df_category_name = pd.concat([df, df_category_name])\n",
    "df_category_name = df_category_name.drop_duplicates().reset_index()\n",
    "df_category_name = df_category_name.drop(columns = 'index')\n",
    "\n",
    "df_cause_name = pd.concat([df, df_cause_name ])\n",
    "df_cause_name = df_cause_name.drop_duplicates().reset_index()\n",
    "df_cause_name = df_cause_name.drop(columns = 'index')\n",
    "\n",
    "df_npo_affiliation = pd.concat([df, df_npo_affiliation ])\n",
    "df_npo_affiliation = df_npo_affiliation.drop_duplicates().reset_index()\n",
    "df_npo_affiliation = df_npo_affiliation.drop(columns = 'index')\n",
    "\n",
    "#Combining dummy variables with each other \n",
    "df2 = pd.concat([df_category_name, df_foundation_status])\n",
    "df2 = df2.drop_duplicates().reset_index()\n",
    "df2 = df2.drop(columns = 'index')\n",
    "\n",
    "df3 = pd.concat([df_npo_affiliation, df_cause_name ])\n",
    "df3 = df3.drop_duplicates().reset_index()\n",
    "df3 = df3.drop(columns = 'index')\n",
    "\n",
    "#Combining dataframes into final dummy variable\n",
    "df4 = pd.concat([df2, df3])\n",
    "df4 = df4.drop_duplicates().reset_index()\n",
    "df4 = df4.drop(columns = 'index')\n"
   ]
  },
  {
   "cell_type": "code",
   "execution_count": 38,
   "metadata": {},
   "outputs": [],
   "source": [
    "df4 = df4.drop(columns = ['category_name', 'cause_name', 'city', 'foundation_status', 'npo_affiliation', 'name', 'state'])"
   ]
  },
  {
   "cell_type": "code",
   "execution_count": 42,
   "metadata": {},
   "outputs": [],
   "source": [
    "df4 = df4.fillna(0)"
   ]
  },
  {
   "cell_type": "markdown",
   "metadata": {},
   "source": [
    "# Saving DF as a CSV File"
   ]
  },
  {
   "cell_type": "code",
   "execution_count": 43,
   "metadata": {},
   "outputs": [],
   "source": [
    "df4.to_csv('df4.csv')"
   ]
  }
 ],
 "metadata": {
  "kernelspec": {
   "display_name": "Python 3",
   "language": "python",
   "name": "python3"
  },
  "language_info": {
   "codemirror_mode": {
    "name": "ipython",
    "version": 3
   },
   "file_extension": ".py",
   "mimetype": "text/x-python",
   "name": "python",
   "nbconvert_exporter": "python",
   "pygments_lexer": "ipython3",
   "version": "3.6.12"
  }
 },
 "nbformat": 4,
 "nbformat_minor": 4
}
