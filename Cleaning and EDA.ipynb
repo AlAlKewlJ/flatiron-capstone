{
 "cells": [
  {
   "cell_type": "markdown",
   "metadata": {},
   "source": [
    "# Import packages and CSV file"
   ]
  },
  {
   "cell_type": "code",
   "execution_count": 1,
   "metadata": {},
   "outputs": [],
   "source": [
    "import pandas as pd\n",
    "import numpy as np"
   ]
  },
  {
   "cell_type": "code",
   "execution_count": 2,
   "metadata": {},
   "outputs": [],
   "source": [
    "df = pd.read_csv('final_df.csv')"
   ]
  },
  {
   "cell_type": "markdown",
   "metadata": {},
   "source": [
    "# Data Cleaning"
   ]
  },
  {
   "cell_type": "markdown",
   "metadata": {},
   "source": [
    "Labeling the columns and getting rid of the extra index columns that remained after concatination of dataframes "
   ]
  },
  {
   "cell_type": "code",
   "execution_count": 3,
   "metadata": {},
   "outputs": [],
   "source": [
    "df = df.rename(columns={'0': 'mission', '1': 'tagline', '2': 'name', '3': 'category_name', '4': 'category_ID', '5': 'cause_name', '6': 'cause_ID', '7': 'city', '8': 'state', '9': 'zipcode', \n",
    "                   '10': 'current_score', '11': 'current_rating', '12': 'advisories', '13': 'accountability_score', '14': 'accountability_rating', '15': 'irs_org_type', '16': 'irs_classification', \n",
    "                   '17': 'npo_affilitation', '18': 'foundation_status', '19': 'irs_org_classification', '20': 'tax_deductibility', '21': 'npo_status', '22': 'org_assets', '23': 'org_income', \n",
    "                   '24': 'fin_score', '25': 'fin_rating'})"
   ]
  },
  {
   "cell_type": "code",
   "execution_count": 4,
   "metadata": {},
   "outputs": [
    {
     "data": {
      "text/plain": [
       "<bound method Series.unique of 0           0\n",
       "1           1\n",
       "2           2\n",
       "3           3\n",
       "4           4\n",
       "         ... \n",
       "10813    8917\n",
       "10814    8922\n",
       "10815    8923\n",
       "10816    8925\n",
       "10817    8929\n",
       "Name: index, Length: 10818, dtype: int64>"
      ]
     },
     "execution_count": 4,
     "metadata": {},
     "output_type": "execute_result"
    }
   ],
   "source": [
    "df['index'].unique"
   ]
  },
  {
   "cell_type": "code",
   "execution_count": 5,
   "metadata": {},
   "outputs": [
    {
     "data": {
      "text/plain": [
       "Unnamed: 0                  int64\n",
       "index                       int64\n",
       "mission                    object\n",
       "tagline                    object\n",
       "name                       object\n",
       "category_name              object\n",
       "category_ID                 int64\n",
       "cause_name                 object\n",
       "cause_ID                    int64\n",
       "city                       object\n",
       "state                      object\n",
       "zipcode                     int64\n",
       "current_score             float64\n",
       "current_rating              int64\n",
       "advisories                 object\n",
       "accountability_score        int64\n",
       "accountability_rating       int64\n",
       "irs_org_type               object\n",
       "irs_classification         object\n",
       "npo_affilitation           object\n",
       "foundation_status          object\n",
       "irs_org_classification     object\n",
       "tax_deductibility          object\n",
       "npo_status                 object\n",
       "org_assets                float64\n",
       "org_income                float64\n",
       "fin_score                 float64\n",
       "fin_rating                  int64\n",
       "dtype: object"
      ]
     },
     "execution_count": 5,
     "metadata": {},
     "output_type": "execute_result"
    }
   ],
   "source": [
    "#Reviewing data types\n",
    "df.dtypes"
   ]
  },
  {
   "cell_type": "code",
   "execution_count": 6,
   "metadata": {},
   "outputs": [],
   "source": [
    "#Dropping 'index' and 'Unnamed: 0'\n",
    "df = df.drop(columns= ['index', 'Unnamed: 0'])"
   ]
  },
  {
   "cell_type": "code",
   "execution_count": 8,
   "metadata": {},
   "outputs": [
    {
     "data": {
      "text/html": [
       "<div>\n",
       "<style scoped>\n",
       "    .dataframe tbody tr th:only-of-type {\n",
       "        vertical-align: middle;\n",
       "    }\n",
       "\n",
       "    .dataframe tbody tr th {\n",
       "        vertical-align: top;\n",
       "    }\n",
       "\n",
       "    .dataframe thead th {\n",
       "        text-align: right;\n",
       "    }\n",
       "</style>\n",
       "<table border=\"1\" class=\"dataframe\">\n",
       "  <thead>\n",
       "    <tr style=\"text-align: right;\">\n",
       "      <th></th>\n",
       "      <th>mission</th>\n",
       "      <th>tagline</th>\n",
       "      <th>name</th>\n",
       "      <th>category_name</th>\n",
       "      <th>category_ID</th>\n",
       "      <th>cause_name</th>\n",
       "      <th>cause_ID</th>\n",
       "      <th>city</th>\n",
       "      <th>state</th>\n",
       "      <th>zipcode</th>\n",
       "      <th>...</th>\n",
       "      <th>irs_classification</th>\n",
       "      <th>npo_affilitation</th>\n",
       "      <th>foundation_status</th>\n",
       "      <th>irs_org_classification</th>\n",
       "      <th>tax_deductibility</th>\n",
       "      <th>npo_status</th>\n",
       "      <th>org_assets</th>\n",
       "      <th>org_income</th>\n",
       "      <th>fin_score</th>\n",
       "      <th>fin_rating</th>\n",
       "    </tr>\n",
       "  </thead>\n",
       "  <tbody>\n",
       "    <tr>\n",
       "      <th>0</th>\n",
       "      <td>Impact Alabama was founded in 2004 as the stat...</td>\n",
       "      <td>Engaging a Generation for Change.</td>\n",
       "      <td>Impact America</td>\n",
       "      <td>Human Services</td>\n",
       "      <td>6</td>\n",
       "      <td>Social Services</td>\n",
       "      <td>29</td>\n",
       "      <td>Birmingham</td>\n",
       "      <td>AL</td>\n",
       "      <td>35209</td>\n",
       "      <td>...</td>\n",
       "      <td>Educational Organization</td>\n",
       "      <td>Independent - the organization is an independe...</td>\n",
       "      <td>Organization which receives a substantial part...</td>\n",
       "      <td>Student Services, Organizations of Students</td>\n",
       "      <td>Contributions are deductible</td>\n",
       "      <td>501(c)(3)</td>\n",
       "      <td>2032739.0</td>\n",
       "      <td>3364323.0</td>\n",
       "      <td>91.70</td>\n",
       "      <td>4</td>\n",
       "    </tr>\n",
       "    <tr>\n",
       "      <th>1</th>\n",
       "      <td>Four Corners Ministries exists to communicate ...</td>\n",
       "      <td>The Gospel Sent</td>\n",
       "      <td>Four Corners Ministries</td>\n",
       "      <td>Religion</td>\n",
       "      <td>9</td>\n",
       "      <td>Religious Activities</td>\n",
       "      <td>26</td>\n",
       "      <td>Opelika</td>\n",
       "      <td>AL</td>\n",
       "      <td>36801</td>\n",
       "      <td>...</td>\n",
       "      <td>Charitable Organization</td>\n",
       "      <td>Independent - the organization is an independe...</td>\n",
       "      <td>Organization that normally receives no more th...</td>\n",
       "      <td>Christian</td>\n",
       "      <td>Contributions are deductible</td>\n",
       "      <td>501(c)(3)</td>\n",
       "      <td>2602296.0</td>\n",
       "      <td>1930948.0</td>\n",
       "      <td>96.10</td>\n",
       "      <td>4</td>\n",
       "    </tr>\n",
       "    <tr>\n",
       "      <th>2</th>\n",
       "      <td>The Mobile Symphony Orchestra enhances lives b...</td>\n",
       "      <td>Working to create an environment that allows f...</td>\n",
       "      <td>Mobile Symphony Orchestra</td>\n",
       "      <td>Arts, Culture, Humanities</td>\n",
       "      <td>2</td>\n",
       "      <td>Performing Arts</td>\n",
       "      <td>4</td>\n",
       "      <td>Mobile</td>\n",
       "      <td>AL</td>\n",
       "      <td>36602</td>\n",
       "      <td>...</td>\n",
       "      <td>Educational Organization</td>\n",
       "      <td>Independent - the organization is an independe...</td>\n",
       "      <td>Organization that normally receives no more th...</td>\n",
       "      <td>Symphony Orchestras</td>\n",
       "      <td>Contributions are deductible</td>\n",
       "      <td>501(c)(3)</td>\n",
       "      <td>1162334.0</td>\n",
       "      <td>1597054.0</td>\n",
       "      <td>66.45</td>\n",
       "      <td>1</td>\n",
       "    </tr>\n",
       "    <tr>\n",
       "      <th>3</th>\n",
       "      <td>Big Oak Ranch is a Christian home for children...</td>\n",
       "      <td>A Christian home for children needing a chance</td>\n",
       "      <td>Big Oak Ranch</td>\n",
       "      <td>Human Services</td>\n",
       "      <td>6</td>\n",
       "      <td>Youth Development, Shelter, and Crisis Services</td>\n",
       "      <td>16</td>\n",
       "      <td>Springville</td>\n",
       "      <td>AL</td>\n",
       "      <td>35146</td>\n",
       "      <td>...</td>\n",
       "      <td>Charitable Organization</td>\n",
       "      <td>Independent - the organization is an independe...</td>\n",
       "      <td>Organization which receives a substantial part...</td>\n",
       "      <td>Group Home (Long Term)</td>\n",
       "      <td>Contributions are deductible</td>\n",
       "      <td>501(c)(3)</td>\n",
       "      <td>49861768.0</td>\n",
       "      <td>22928887.0</td>\n",
       "      <td>99.11</td>\n",
       "      <td>4</td>\n",
       "    </tr>\n",
       "    <tr>\n",
       "      <th>4</th>\n",
       "      <td>The Community Foundation of Greater Huntsville...</td>\n",
       "      <td>A Smart Place to Give</td>\n",
       "      <td>Community Foundation of Greater Huntsville</td>\n",
       "      <td>Community Development</td>\n",
       "      <td>10</td>\n",
       "      <td>Community Foundations</td>\n",
       "      <td>22</td>\n",
       "      <td>Huntsville</td>\n",
       "      <td>AL</td>\n",
       "      <td>35801</td>\n",
       "      <td>...</td>\n",
       "      <td>Charitable Organization</td>\n",
       "      <td>Independent - the organization is an independe...</td>\n",
       "      <td>Organization which receives a substantial part...</td>\n",
       "      <td>Community Foundations</td>\n",
       "      <td>Contributions are deductible</td>\n",
       "      <td>501(c)(3)</td>\n",
       "      <td>25229948.0</td>\n",
       "      <td>12989927.0</td>\n",
       "      <td>95.00</td>\n",
       "      <td>4</td>\n",
       "    </tr>\n",
       "  </tbody>\n",
       "</table>\n",
       "<p>5 rows × 26 columns</p>\n",
       "</div>"
      ],
      "text/plain": [
       "                                             mission  \\\n",
       "0  Impact Alabama was founded in 2004 as the stat...   \n",
       "1  Four Corners Ministries exists to communicate ...   \n",
       "2  The Mobile Symphony Orchestra enhances lives b...   \n",
       "3  Big Oak Ranch is a Christian home for children...   \n",
       "4  The Community Foundation of Greater Huntsville...   \n",
       "\n",
       "                                             tagline  \\\n",
       "0                  Engaging a Generation for Change.   \n",
       "1                                    The Gospel Sent   \n",
       "2  Working to create an environment that allows f...   \n",
       "3     A Christian home for children needing a chance   \n",
       "4                              A Smart Place to Give   \n",
       "\n",
       "                                         name              category_name  \\\n",
       "0                              Impact America             Human Services   \n",
       "1                     Four Corners Ministries                   Religion   \n",
       "2                   Mobile Symphony Orchestra  Arts, Culture, Humanities   \n",
       "3                               Big Oak Ranch             Human Services   \n",
       "4  Community Foundation of Greater Huntsville      Community Development   \n",
       "\n",
       "   category_ID                                       cause_name  cause_ID  \\\n",
       "0            6                                  Social Services        29   \n",
       "1            9                             Religious Activities        26   \n",
       "2            2                                  Performing Arts         4   \n",
       "3            6  Youth Development, Shelter, and Crisis Services        16   \n",
       "4           10                            Community Foundations        22   \n",
       "\n",
       "          city state  zipcode  ...        irs_classification  \\\n",
       "0   Birmingham    AL    35209  ...  Educational Organization   \n",
       "1      Opelika    AL    36801  ...   Charitable Organization   \n",
       "2       Mobile    AL    36602  ...  Educational Organization   \n",
       "3  Springville    AL    35146  ...   Charitable Organization   \n",
       "4   Huntsville    AL    35801  ...   Charitable Organization   \n",
       "\n",
       "                                    npo_affilitation  \\\n",
       "0  Independent - the organization is an independe...   \n",
       "1  Independent - the organization is an independe...   \n",
       "2  Independent - the organization is an independe...   \n",
       "3  Independent - the organization is an independe...   \n",
       "4  Independent - the organization is an independe...   \n",
       "\n",
       "                                   foundation_status  \\\n",
       "0  Organization which receives a substantial part...   \n",
       "1  Organization that normally receives no more th...   \n",
       "2  Organization that normally receives no more th...   \n",
       "3  Organization which receives a substantial part...   \n",
       "4  Organization which receives a substantial part...   \n",
       "\n",
       "                        irs_org_classification             tax_deductibility  \\\n",
       "0  Student Services, Organizations of Students  Contributions are deductible   \n",
       "1                                    Christian  Contributions are deductible   \n",
       "2                          Symphony Orchestras  Contributions are deductible   \n",
       "3                       Group Home (Long Term)  Contributions are deductible   \n",
       "4                        Community Foundations  Contributions are deductible   \n",
       "\n",
       "  npo_status  org_assets  org_income fin_score fin_rating  \n",
       "0  501(c)(3)   2032739.0   3364323.0     91.70          4  \n",
       "1  501(c)(3)   2602296.0   1930948.0     96.10          4  \n",
       "2  501(c)(3)   1162334.0   1597054.0     66.45          1  \n",
       "3  501(c)(3)  49861768.0  22928887.0     99.11          4  \n",
       "4  501(c)(3)  25229948.0  12989927.0     95.00          4  \n",
       "\n",
       "[5 rows x 26 columns]"
      ]
     },
     "execution_count": 8,
     "metadata": {},
     "output_type": "execute_result"
    }
   ],
   "source": [
    "df.head()"
   ]
  },
  {
   "cell_type": "code",
   "execution_count": 10,
   "metadata": {},
   "outputs": [
    {
     "data": {
      "text/plain": [
       "(10818, 26)"
      ]
     },
     "execution_count": 10,
     "metadata": {},
     "output_type": "execute_result"
    }
   ],
   "source": [
    "df.shape"
   ]
  },
  {
   "cell_type": "code",
   "execution_count": 9,
   "metadata": {},
   "outputs": [
    {
     "data": {
      "text/plain": [
       "mission                       0\n",
       "tagline                      23\n",
       "name                          0\n",
       "category_name                 0\n",
       "category_ID                   0\n",
       "cause_name                    0\n",
       "cause_ID                      0\n",
       "city                          0\n",
       "state                         0\n",
       "zipcode                       0\n",
       "current_score                 0\n",
       "current_rating                0\n",
       "advisories                10794\n",
       "accountability_score          0\n",
       "accountability_rating         0\n",
       "irs_org_type               1906\n",
       "irs_classification           22\n",
       "npo_affilitation             11\n",
       "foundation_status             9\n",
       "irs_org_classification     1906\n",
       "tax_deductibility             9\n",
       "npo_status                    9\n",
       "org_assets                  117\n",
       "org_income                  117\n",
       "fin_score                     0\n",
       "fin_rating                    0\n",
       "dtype: int64"
      ]
     },
     "execution_count": 9,
     "metadata": {},
     "output_type": "execute_result"
    }
   ],
   "source": [
    "#check for null values\n",
    "df.isnull().sum()"
   ]
  },
  {
   "cell_type": "code",
   "execution_count": null,
   "metadata": {},
   "outputs": [],
   "source": [
    "#Null values are tagline(23) advisories(10794), irs_org_type(1906), irs_classification(1906), tax_deductability(9), npo_status(9), org_assets(117), org_income(117)"
   ]
  },
  {
   "cell_type": "code",
   "execution_count": null,
   "metadata": {},
   "outputs": [],
   "source": []
  },
  {
   "cell_type": "code",
   "execution_count": null,
   "metadata": {},
   "outputs": [],
   "source": []
  },
  {
   "cell_type": "code",
   "execution_count": null,
   "metadata": {},
   "outputs": [],
   "source": []
  },
  {
   "cell_type": "code",
   "execution_count": 30,
   "metadata": {},
   "outputs": [
    {
     "data": {
      "text/plain": [
       "<bound method Series.unique of 0                   Human Services\n",
       "1                         Religion\n",
       "2        Arts, Culture, Humanities\n",
       "3                   Human Services\n",
       "4            Community Development\n",
       "                   ...            \n",
       "10813                    Education\n",
       "10814                     Religion\n",
       "10815    Arts, Culture, Humanities\n",
       "10816               Human Services\n",
       "10817               Human Services\n",
       "Name: category_name, Length: 10818, dtype: object>"
      ]
     },
     "execution_count": 30,
     "metadata": {},
     "output_type": "execute_result"
    }
   ],
   "source": [
    "#View category_name values\n",
    "df['category_name'].unique"
   ]
  },
  {
   "cell_type": "code",
   "execution_count": 20,
   "metadata": {},
   "outputs": [],
   "source": [
    "#View cause_name values"
   ]
  },
  {
   "cell_type": "code",
   "execution_count": null,
   "metadata": {},
   "outputs": [],
   "source": [
    "#View current_score values"
   ]
  },
  {
   "cell_type": "code",
   "execution_count": null,
   "metadata": {},
   "outputs": [],
   "source": [
    "#View current ratings "
   ]
  },
  {
   "cell_type": "code",
   "execution_count": null,
   "metadata": {},
   "outputs": [],
   "source": [
    "#View accountability_score and accountability_ratings"
   ]
  },
  {
   "cell_type": "code",
   "execution_count": null,
   "metadata": {},
   "outputs": [],
   "source": [
    "#irs_org_type\n",
    "#irs_classification"
   ]
  },
  {
   "cell_type": "code",
   "execution_count": null,
   "metadata": {},
   "outputs": [],
   "source": [
    "#View advisories "
   ]
  },
  {
   "cell_type": "code",
   "execution_count": null,
   "metadata": {},
   "outputs": [],
   "source": [
    "#view npo_status"
   ]
  },
  {
   "cell_type": "code",
   "execution_count": null,
   "metadata": {},
   "outputs": [],
   "source": [
    "#tax_deductibility "
   ]
  },
  {
   "cell_type": "code",
   "execution_count": null,
   "metadata": {},
   "outputs": [],
   "source": [
    "#org_assets and org_income"
   ]
  },
  {
   "cell_type": "code",
   "execution_count": null,
   "metadata": {},
   "outputs": [],
   "source": [
    "#fin_score and fin_rating "
   ]
  },
  {
   "cell_type": "code",
   "execution_count": null,
   "metadata": {},
   "outputs": [],
   "source": []
  },
  {
   "cell_type": "code",
   "execution_count": null,
   "metadata": {},
   "outputs": [],
   "source": [
    "#View NPO state distribution"
   ]
  }
 ],
 "metadata": {
  "kernelspec": {
   "display_name": "Python 3",
   "language": "python",
   "name": "python3"
  },
  "language_info": {
   "codemirror_mode": {
    "name": "ipython",
    "version": 3
   },
   "file_extension": ".py",
   "mimetype": "text/x-python",
   "name": "python",
   "nbconvert_exporter": "python",
   "pygments_lexer": "ipython3",
   "version": "3.6.12"
  }
 },
 "nbformat": 4,
 "nbformat_minor": 4
}
